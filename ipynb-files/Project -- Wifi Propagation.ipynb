{
 "cells": [
  {
   "cell_type": "markdown",
   "id": "d014fc20",
   "metadata": {},
   "source": [
    "# Project: Wifi-propagation\n",
    "\n",
    "From page 95 of FreeFem++ documentation (https://doc.freefem.org/pdf/FreeFEM-documentation.pdf):\n",
    "\n",
    "_\"In this tutorial, we will study the wifi signal power in a flat. An awesome flat is especially designed for the experiment, with 2 walls._\n",
    "\n",
    "_Even if the flat seems small enough to be covered by wifi everywhere, it is still interesting to study where the signal’s power is the lowest. We will study where to put the hotspot to get the best coverage, and as we’re a bit lazy we will only put it next to the left wall._\n",
    "\n",
    "_In a nutshell, the Wifi is a electromagnetic wave that contains a signal: Internet data. Electromagnetic waves are well know by physicists and are ruled by the 4 Maxwell equations which give you the solution for $E$, the electrical field, and $B$, the magnetic field, in space but also in time._\n",
    "\n",
    "_We don’t care about the time here, because the signal period is really short so our internet quality will not change with time. Without time, we’re looking for stationaries solutions, and the Maxwell equations can be simplified to one equation, the Helmholtz one:_\n",
    "$$\n",
    "\\Delta E + \\frac{k^2}{n^2}E = 0.\n",
    "$$\n",
    "_Where $k$ is the angular wavenumber of the wifi signal, and $n$ the refractive index of the material the wave is in.\n",
    "Indeed, the main point of this study is the impact of walls on the signal’s power, where the $n$ is different from air (where it is 1). In walls, the refractive index is a complex number in which the two parts have a physic interpretation:_\n",
    "\n",
    "- _The real part defines the reflexion of the wall (the amount of signal that doesn’t pass)._\n",
    "\n",
    "- _The imaginary part defines the absorption of the wall (the amount that disappears)._\n",
    "\n",
    "_The wifi hotspot (simulated by a simple circle) will be the boundary condition, with a non null value for our electrical field.\"_\n",
    "\n",
    "\n",
    "NB: both $k$ and $n$ are _functions_.\n",
    "\n",
    "## The Problem\n",
    "\n",
    "1. Find a piecewise linear approximation to $E$;\n",
    "2. Plot the signal power $s = \\log(E\\overline{E})$;\n",
    "3. Mesh a different house plan and replicate points 1 and 2.\n",
    "\n",
    "\n",
    "The usage of the PETSc package, preconditioning techniques and whatever else is needed to make the code heavy duty is required."
   ]
  }
 ],
 "metadata": {
  "kernelspec": {
   "display_name": "Python 3",
   "language": "python",
   "name": "python3"
  },
  "language_info": {
   "codemirror_mode": {
    "name": "ipython",
    "version": 3
   },
   "file_extension": ".py",
   "mimetype": "text/x-python",
   "name": "python",
   "nbconvert_exporter": "python",
   "pygments_lexer": "ipython3",
   "version": "3.8.8"
  }
 },
 "nbformat": 4,
 "nbformat_minor": 5
}

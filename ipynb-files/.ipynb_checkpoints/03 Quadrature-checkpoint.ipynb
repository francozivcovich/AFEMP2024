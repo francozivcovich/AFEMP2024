{
 "cells": [
  {
   "cell_type": "markdown",
   "id": "7eecd6b9",
   "metadata": {},
   "source": [
    "# 03: Quadrature\n",
    "\n",
    "In the past section we saw how natural and easy is to use a mesh to approximate the measure of a domain once we avail of bijective maps between the reference and the physical elements. \n",
    "In this section, on the pretext of exploring what are the other _low hanging fruits_ that meshes offer, we will introduce another cornerstone of Finite Elements Methods: _quadrature_.\n",
    "\n",
    "Of course, our idea is to exploit the bijective maps for dragging the quadrature game on the reference element and then try to have the quadrature at the physical elements at a small price.\n",
    "\n",
    "So let's start by adding to our toolbox a function for computing quadrature points and weights on a $d$-dimensional simplex:"
   ]
  },
  {
   "cell_type": "code",
   "execution_count": 1,
   "id": "8dbd435d",
   "metadata": {},
   "outputs": [],
   "source": [
    "import numpy as np"
   ]
  },
  {
   "cell_type": "code",
   "execution_count": 2,
   "id": "6bbe15a6",
   "metadata": {},
   "outputs": [],
   "source": [
    "def simplexQuadrature( N, D ):\n",
    "\n",
    "        def rquad( N, d ):\n",
    "            #\n",
    "            cof = 2 * np.array( range( N ) ) + d\n",
    "            if d:\n",
    "                A = ( d ** 2 ) / ( cof * ( cof + 2 ) )\n",
    "            else:\n",
    "                A = np.zeros( N )\n",
    "            B = ( cof[1:] ** 2 - d ** 2 ) / ( 2 * cof[1:] * np.sqrt( cof[1:]**2 - 1 ) )\n",
    "            M = np.diag( A ) + np.diag( B, -1 ) + np.diag( B, 1 )\n",
    "            #\n",
    "            x, V = np.linalg.eig( M )\n",
    "            i = np.argsort( x )\n",
    "            x = ( x[ i ] + 1 ) / 2\n",
    "            w = V[ 0,i ]**2 / ( d + 1 )\n",
    "            return x, w\n",
    "        #\n",
    "        X = np.ones( ( N ** D, D + 1 ) )\n",
    "        W = np.ones( ( N ** D, ) )\n",
    "        dim = np.ones( D, dtype = 'int32' )\n",
    "        dim[0] = -1\n",
    "        for d in range( 1, D + 1 ):\n",
    "            # cornerstone of this implementation\n",
    "            x, w = rquad( N, D - d )\n",
    "            # some auxiliary arrays\n",
    "            transposition = np.array( range( D ), dtype = 'int32' )\n",
    "            transposition[ d - 1 ] = 0\n",
    "            transposition[ 0 ] = d - 1\n",
    "            tilation = np.ones( D, dtype = 'int32' ) * N\n",
    "            tilation[ d - 1 ] = 1\n",
    "            # create the structures you need\n",
    "            x = np.transpose( x.reshape( dim ), transposition )\n",
    "            w = np.transpose( w.reshape( dim ), transposition )\n",
    "            # build X and W\n",
    "            X[ :,d ] = X[ :,d-1 ] * np.tile( x, tilation ).reshape( -1, order = 'F' )\n",
    "            W        = W          * np.tile( w, tilation ).reshape( -1, order = 'F' )\n",
    "\n",
    "        # manipulate output\n",
    "        X = - np.diff( X,1,1 )\n",
    "        permutation = np.roll( np.array( range( D ), dtype = 'int32' ),1 )\n",
    "        X = X[:,permutation]\n",
    "\n",
    "        return X, W"
   ]
  },
  {
   "cell_type": "markdown",
   "id": "f0f975f6",
   "metadata": {},
   "source": [
    "Now, I want to stress that it is not in our interest to understand how the function ```simplexQuadrature``` works. I just stole it long time ago in some dark corner of the internet and it worked well ever since :)\n",
    "\n",
    "The only thing you should clearly understand about quadrature is that there are points $x_1,x_2,\\ldots,x_N \\in \\Omega$ and weights $w_1,w_2,\\ldots,w_N \\in \\mathbb{R}$ for which\n",
    "$$\n",
    "\\int_{\\Omega} f(x) \\mathrm{d}x \\approx \\sum_{q=1}^{N} f(x_q)w_q\n",
    "$$\n",
    "is a fine enough approximation.\n",
    "\n",
    "\n",
    "Let's rather see it in action...\n",
    "\n",
    "### Example 01: 1D quadrature\n",
    "\n",
    "...by quadrating the sine function over the interval, idk, $\\left[\\pi, \\frac{3}{2}\\pi\\right]$:\n",
    "$$\n",
    "\\int_\\pi^{\\frac{3}{2}\\pi} \\sin(x) \\mathrm{d}x = -1\n",
    "$$"
   ]
  },
  {
   "cell_type": "code",
   "execution_count": 10,
   "id": "b627ad43",
   "metadata": {},
   "outputs": [
    {
     "name": "stdout",
     "output_type": "stream",
     "text": [
      "# elements = 1, quadrature order = 3: Relative error is  8.12155550e-06.\n"
     ]
    }
   ],
   "source": [
    "# this can be done in one big step\n",
    "Points = np.linspace( np.pi, 3/2 * np.pi, 2 )[:,None]\n",
    "CList  = np.vstack((np.arange( 0,Points.shape[0]-1 ), np.arange( 1,Points.shape[0]-1+1 ) )).T\n",
    "B   = ( Points[CList[:,1:]] - Points[CList[:,0]][:,None,:] ).transpose( ( 0,2,1 ) )\n",
    "dtB = np.linalg.det( B ) # ofc this is dumb in 1D\n",
    "\n",
    "X, W = simplexQuadrature( N = 3, D = 1 )\n",
    "res = 0\n",
    "for k in range(CList.shape[0]):\n",
    "    for q in range(W.size):\n",
    "        res = res + np.sin( B[k,:,:] @ X[q,:] + Points[CList[:,0]] ) * W[q] * dtB[:,None]\n",
    "        # here you observe the JOINT actions of quadrature AND change of variables\n",
    "print('# elements = 1, quadrature order = 3: Relative error is  %0.8e.' % np.abs( res + 1 ) )"
   ]
  },
  {
   "cell_type": "code",
   "execution_count": 11,
   "id": "e03d67e0",
   "metadata": {},
   "outputs": [
    {
     "name": "stdout",
     "output_type": "stream",
     "text": [
      "# elements = 1, quadrature order = 6: Relative error is  4.66293670e-14.\n"
     ]
    }
   ],
   "source": [
    "# Or by using a larger quadrature order\n",
    "Points = np.linspace( np.pi, 3/2 * np.pi, 2 )[:,None]\n",
    "CList  = np.vstack((np.arange( 0,Points.shape[0]-1 ), np.arange( 1,Points.shape[0]-1+1 ) )).T\n",
    "B   = ( Points[CList[:,1:]] - Points[CList[:,0]][:,None,:] ).transpose( ( 0,2,1 ) )\n",
    "dtB = np.linalg.det( B )\n",
    "\n",
    "X, W = simplexQuadrature( N = 6, D = 1 )\n",
    "res = 0\n",
    "for k in range(CList.shape[0]):\n",
    "    for q in range(W.size):\n",
    "        res = res + np.sin( B[k,:,:] @ X[q,:] + Points[CList[:,0]] ) * W[q] * dtB[:,None]\n",
    "print('# elements = 1, quadrature order = 6: Relative error is  %0.8e.' % np.abs( res + 1 ) )"
   ]
  },
  {
   "cell_type": "code",
   "execution_count": 12,
   "id": "480e97da",
   "metadata": {},
   "outputs": [
    {
     "name": "stdout",
     "output_type": "stream",
     "text": [
      "# elements = 9, quadrature order = 3: Relative error is  1.40349954e-11.\n"
     ]
    }
   ],
   "source": [
    "# Or by refining a bit the mesh\n",
    "Points = np.linspace( np.pi, 3/2 * np.pi, 10 )[:,None]\n",
    "CList  = np.vstack((np.arange( 0,Points.shape[0]-1 ), np.arange( 1,Points.shape[0]-1+1 ) )).T\n",
    "B   = ( Points[CList[:,1:]] - Points[CList[:,0]][:,None,:] ).transpose( ( 0,2,1 ) )\n",
    "dtB = np.linalg.det( B )\n",
    "\n",
    "X, W = simplexQuadrature( N = 3, D = 1 )\n",
    "res = 0\n",
    "for k in range(CList.shape[0]):\n",
    "    for q in range(W.size):\n",
    "        res = res + np.sin( B[k,:,:] @ X[q,:] + Points[CList[k,0]] ) * W[q] * dtB[k,None]\n",
    "print('# elements = 9, quadrature order = 3: Relative error is  %0.8e.' % np.abs( res + 1 ) )"
   ]
  },
  {
   "cell_type": "markdown",
   "id": "aeec2c86",
   "metadata": {},
   "source": [
    "**Make it faster**\n",
    "\n",
    "However, we agreed that loops are very slow. \n",
    "This is especially nasty as we loop over the number of the elements (typically very numerous).\n",
    "We now derive a technique for speeding things up.\n",
    "\n",
    "First, notice that we can switch the order of the two loops:\n"
   ]
  },
  {
   "cell_type": "code",
   "execution_count": 13,
   "id": "cdfeec6c",
   "metadata": {},
   "outputs": [
    {
     "name": "stdout",
     "output_type": "stream",
     "text": [
      "# elements = 9, quadrature order = 3: Relative error is  1.40352174e-11.\n"
     ]
    }
   ],
   "source": [
    "res = 0\n",
    "for q in range(W.size):\n",
    "    for k in range(CList.shape[0]):\n",
    "        res = res + np.sin( B[k,:,:] @ X[q,:] + Points[CList[k,0]] ) * W[q] * dtB[k,None]\n",
    "print('# elements = 9, quadrature order = 3: Relative error is  %0.8e.' % np.abs( res + 1 ) )"
   ]
  },
  {
   "cell_type": "markdown",
   "id": "ef36dbe1",
   "metadata": {},
   "source": [
    "Then, we collapse the inner loop as follows:"
   ]
  },
  {
   "cell_type": "code",
   "execution_count": 14,
   "id": "47fd5c00",
   "metadata": {},
   "outputs": [
    {
     "name": "stdout",
     "output_type": "stream",
     "text": [
      "# elements = 9, quadrature order = 3: Relative error is  1.40347733e-11.\n"
     ]
    }
   ],
   "source": [
    "res = 0\n",
    "for q in range(W.size):\n",
    "    res = res + np.sin( B @ X[q,:] + Points[CList[:,0]] ) * W[q] * dtB[:,None]\n",
    "res = np.sum( res )\n",
    "print('# elements = 9, quadrature order = 3: Relative error is  %0.8e.' % np.abs( res + 1 ) )"
   ]
  },
  {
   "cell_type": "code",
   "execution_count": 16,
   "id": "9b4e8423",
   "metadata": {},
   "outputs": [
    {
     "name": "stdout",
     "output_type": "stream",
     "text": [
      "Unvectorised: 2.364 seconds.\n",
      "Vectorised: 0.010 seconds.\n"
     ]
    }
   ],
   "source": [
    "import time \n",
    "\n",
    "Nv = 10**5\n",
    "Points = np.linspace( np.pi, 3/2 * np.pi, Nv )[:,None]\n",
    "CList  = np.vstack((np.arange( 0,Points.shape[0]-1 ), np.arange( 1,Points.shape[0]-1+1 ) )).T\n",
    "B   = ( Points[CList[:,1:]] - Points[CList[:,0]][:,None,:] ).transpose( ( 0,2,1 ) )\n",
    "dtB = np.linalg.det( B )\n",
    "\n",
    "X, W = simplexQuadrature( N = 3, D = 1 )\n",
    "\n",
    "t = time.time()\n",
    "res = 0\n",
    "for k in range(CList.shape[0]):\n",
    "    for q in range(W.size):\n",
    "        res = res + np.sin( B[k,:,:] @ X[q,:] + Points[CList[k,0]] ) *  W[q] * dtB[k,None]\n",
    "print('Unvectorised: %1.3f seconds.' % (time.time() - t))\n",
    "\n",
    "t = time.time()\n",
    "res = 0\n",
    "for q in range(W.size):\n",
    "    res = res + np.sin( B @ X[q,:] + Points[CList[:,0]] ) *  W[q] * dtB[:,None]\n",
    "res = np.sum( res )\n",
    "print('Vectorised: %1.3f seconds.' % (time.time() - t))"
   ]
  },
  {
   "cell_type": "code",
   "execution_count": 17,
   "id": "9d461715",
   "metadata": {},
   "outputs": [
    {
     "name": "stdout",
     "output_type": "stream",
     "text": [
      "Vectorised: 0.029 seconds.\n",
      "Relative error is  4.44089210e-16.\n"
     ]
    }
   ],
   "source": [
    "# t = time.time()\n",
    "# res = 0\n",
    "# for q in range(W.size):\n",
    "#     res = res + np.sin( B @ X[q,:] + Points[CList[:,0]] ) *  W[q] * dtB[:,None]\n",
    "# res = np.sum( res )\n",
    "# print('Vectorised: %1.3f seconds.' % (time.time() - t))\n",
    "# print('Relative error is  %0.8e.' % np.abs( res + 1 ) )"
   ]
  },
  {
   "cell_type": "markdown",
   "id": "da76f77c",
   "metadata": {},
   "source": [
    "It gets even better in higher dimension!! In fact, while in 1D ```Nv``` vertices induce ```Nv-1``` elements, in higher dimension elements are usually many more than vertices.\n",
    "Also, the higher the dimension the more have to be quadrature points and weights to match the accuracy obtained in lower dimensions. I show you what I mean:"
   ]
  },
  {
   "cell_type": "code",
   "execution_count": null,
   "id": "75d47174",
   "metadata": {},
   "outputs": [],
   "source": [
    "X, W = simplexQuadrature( N = 3, D = 1 )\n",
    "print( X.shape )\n",
    "print( W.shape )\n",
    "print(' ')\n",
    "\n",
    "X, W = simplexQuadrature( N = 3, D = 2 ) # same order, higher dimension\n",
    "print( X.shape )\n",
    "print( W.shape )\n",
    "print(' ')\n",
    "\n",
    "X, W = simplexQuadrature( N = 3, D = 3 ) # same order, higher dimension\n",
    "print( X.shape )\n",
    "print( W.shape )"
   ]
  },
  {
   "cell_type": "markdown",
   "id": "e01daa4d",
   "metadata": {},
   "source": [
    "Let's see another example in 2D then we will see a performance test on a 3D example."
   ]
  },
  {
   "cell_type": "markdown",
   "id": "24a3d829",
   "metadata": {},
   "source": [
    "### Example 02: compute L2 norm and integral of a function on a 2D crown section\n",
    "\n",
    "Compute the $L_2$ norm and integral of the function\n",
    "$$\n",
    "f(\\theta,\\rho) = \\sin(\\theta)\\cos(\\theta)(\\rho-r)(R-\\rho), \\quad \\theta \\in [0,\\pi/2], \\rho \\in [r,R]\n",
    "$$\n",
    "over the crown section 2D domain with $r = 1$ and $R=2$.\n",
    "\n",
    "In Cartesian coordinates this is\n",
    "$$\n",
    "f( x,y ) = \n",
    "\\sin\\left(\\arccos\\left(\\frac{x}{\\sqrt{x^2+y^2}}\\right)\\right)\n",
    "\\cos\\left(\\arccos\\left(\\frac{x}{\\sqrt{x^2+y^2}}\\right)\\right)\n",
    "%\n",
    "\\left(\\sqrt{x^2+y^2}-r\\right)\\left(R-\\sqrt{x^2+y^2}\\right)\n",
    "$$\n",
    "with Jacobian\n",
    "$$\n",
    "\\frac{1}{\\sqrt{x^2+y^2}}.\n",
    "$$\n",
    "\n",
    "Analytically:\n",
    "$$\n",
    "\\int_{\\Omega} f(x) \\mathrm{d}x = \\frac{1}{12} \\approx 0.083333333333333,\n",
    "$$\n",
    "and\n",
    "$$\n",
    "\\sqrt{\\int_{\\Omega} f^2(x) \\mathrm{d}x} = \\sqrt{\\frac{\\pi}{480}} \\approx 0.080901079689821.\n",
    "$$"
   ]
  },
  {
   "cell_type": "code",
   "execution_count": null,
   "id": "a3645cc3",
   "metadata": {},
   "outputs": [],
   "source": [
    "import meshio \n",
    "import matplotlib.pyplot as plt\n",
    "\n",
    "mesh = meshio.read('../mesh-files/crown.vtu')\n",
    "\n",
    "%matplotlib inline\n",
    "fig = plt.figure()\n",
    "ax  = fig.gca()\n",
    "ax.axis('equal')\n",
    "\n",
    "plt.triplot( mesh.points[:,0], mesh.points[:,1], triangles = mesh.cells[0].data )\n",
    "plt.show()"
   ]
  },
  {
   "cell_type": "code",
   "execution_count": null,
   "id": "2e36365f",
   "metadata": {
    "scrolled": false
   },
   "outputs": [],
   "source": [
    "from mpl_toolkits.mplot3d import Axes3D\n",
    "%matplotlib notebook\n",
    "\n",
    "Points = mesh.points[:,:2]  # for sake of brevity\n",
    "CList  = mesh.cells[0].data # for sake of brevity\n",
    "\n",
    "r = 1\n",
    "R = 2\n",
    "\n",
    "fig = plt.figure()\n",
    "ax = fig.gca(projection='3d')\n",
    "# for triangle in mesh.cells[0].data: # I can't see it anyway so\n",
    "#     ax.triplot( Points[:,0], Points[:,1], triangles = CList )\n",
    "z =    np.sin( np.arccos( Points[:,0] / np.sqrt( np.sum( Points**2,1 ) ) ) ) \\\n",
    "     * np.cos( np.arccos( Points[:,0] / np.sqrt( np.sum( Points**2,1 ) ) ) ) \\\n",
    "     * ( np.sqrt( np.sum( Points**2,1 ) ) - r ) * ( R - np.sqrt( np.sum( Points**2,1 ) ) )\n",
    "ax.plot_trisurf(Points[:,0], Points[:,1], z, triangles = CList )\n",
    "plt.show()"
   ]
  },
  {
   "cell_type": "code",
   "execution_count": null,
   "id": "b33abe7d",
   "metadata": {},
   "outputs": [],
   "source": [
    "# let's find int_Omega f dx\n",
    "B   = ( Points[CList[:,1:]] - Points[CList[:,0]][:,None,:] ).transpose( ( 0,2,1 ) )\n",
    "dtB = np.linalg.det( B )\n",
    "\n",
    "X, W = simplexQuadrature( N = 5, D = 2 )\n",
    "res = 0\n",
    "for q in range(W.size):\n",
    "    p = B @ X[q,:] + Points[CList[:,0]]\n",
    "    z =   np.sin( np.arccos( p[:,0] / np.sqrt( np.sum( p**2,1 ) ) ) ) \\\n",
    "        * np.cos( np.arccos( p[:,0] / np.sqrt( np.sum( p**2,1 ) ) ) ) \\\n",
    "        * ( np.sqrt( np.sum( p**2,1 ) ) - r ) * ( R - np.sqrt( np.sum( p**2,1 ) ) )\n",
    "    jac = 1 / np.sqrt( np.sum( p**2,1 ) )\n",
    "    res = res + z[:,None] * jac[:,None] * W[q] * dtB[:,None]\n",
    "res = np.sum( res )\n",
    "# print( res )\n",
    "print('Integral of f. Relative error is  %0.8e.' % ( np.abs( res - 1/12 ) * 12 ) )\n",
    "#"
   ]
  },
  {
   "cell_type": "code",
   "execution_count": null,
   "id": "c88cb1ff",
   "metadata": {},
   "outputs": [],
   "source": [
    "# let's find L2 norm of f\n",
    "B   = ( Points[CList[:,1:]] - Points[CList[:,0]][:,None,:] ).transpose( ( 0,2,1 ) )\n",
    "dtB = np.linalg.det( B )\n",
    "\n",
    "X, W = simplexQuadrature( N = 5, D = 2 )\n",
    "res = 0\n",
    "for q in range(W.size):\n",
    "    p = B @ X[q,:] + Points[CList[:,0]]\n",
    "    z =   np.sin( np.arccos( p[:,0] / np.sqrt( np.sum( p**2,1 ) ) ) ) \\\n",
    "        * np.cos( np.arccos( p[:,0] / np.sqrt( np.sum( p**2,1 ) ) ) ) \\\n",
    "        * ( np.sqrt( np.sum( p**2,1 ) ) - r ) * ( R - np.sqrt( np.sum( p**2,1 ) ) )\n",
    "    jac = 1 / np.sqrt( np.sum( p**2,1 ) )\n",
    "    res = res + z[:,None]**2 * jac[:,None] * W[q] * dtB[:,None]\n",
    "res = np.sqrt( np.sum( res ) )\n",
    "#print( res )\n",
    "print('Integral of f. Relative error is  %0.8e.' % ( np.abs( res - np.sqrt(np.pi/480) ) * np.sqrt(480/np.pi) ) )"
   ]
  },
  {
   "cell_type": "markdown",
   "id": "54f15457",
   "metadata": {},
   "source": [
    "### Example 03: a performance test on 3D torus\n",
    "\n",
    "\n",
    "Let's now consider the task of computing the volume of a portion $\\Xi$ of the torus. For example the portion that in a cylindrical coordinates system $(\\rho, \\varphi, z)$ has $\\varphi \\in \\left[0, \\frac{\\pi}{4} \\right]$.\n",
    "This amounts to integrating the indicator function $\\mathbf{1}_{\\Xi}(x)$.\n",
    "\n",
    "Warning: this is not equivalent to what we did in the past section!! The region I want to measure could very well cut many tetrahedra in two disjoint pieces so I cannot compute this volume by adding up the measures of the tetrahedra belonging to my region!!"
   ]
  },
  {
   "cell_type": "code",
   "execution_count": null,
   "id": "be3d76e1",
   "metadata": {},
   "outputs": [],
   "source": [
    "mesh = meshio.read('../mesh-files/torus_hard.vtu')\n",
    "\n",
    "Points = mesh.points        # for sake of brevity\n",
    "CList  = mesh.cells[0].data # for sake of brevity\n",
    "\n",
    "Nv = Points.shape[0]\n",
    "Nc = CList.shape[0]\n",
    "\n",
    "print('In this mesh there are %u vertices and %u tetrahedra.' % (Nv, Nc) )"
   ]
  },
  {
   "cell_type": "code",
   "execution_count": null,
   "id": "00d448c5",
   "metadata": {},
   "outputs": [],
   "source": [
    "def indicator( Points, phiA, phiB ):\n",
    "    \n",
    "    rho = np.sqrt( np.sum( Points[:,:2]**2,1 ) )\n",
    "    phi = np.arcsin( Points[:,1] / rho )  \n",
    "    id = np.argwhere( Points[:,0] < 0 )\n",
    "    phi[ id ] = np.pi - phi[ id ]\n",
    "\n",
    "    i_o = np.zeros( Points.shape[0] )    \n",
    "    i_o[ np.argwhere( (phi > phiA) & (phi < phiB) ) ] = 1\n",
    "    \n",
    "    return i_o"
   ]
  },
  {
   "cell_type": "code",
   "execution_count": null,
   "id": "a7915f8f",
   "metadata": {},
   "outputs": [],
   "source": [
    "d  = CList.shape[1] - 1 # why didn't I simply ask for Points.shape[1]?\n",
    "\n",
    "B   = ( Points[CList[:,1:]] - Points[CList[:,0]][:,None,:] ).transpose( ( 0,2,1 ) )\n",
    "dtB = np.linalg.det( B )\n",
    "\n",
    "R = 0.6\n",
    "r = 0.2\n",
    "\n",
    "X, W = simplexQuadrature( N = 3, D = 3 )\n",
    "\n",
    "phiA = 0\n",
    "phiB = np.pi / 4\n",
    "\n",
    "\n",
    "t = time.time()\n",
    "res = 0\n",
    "for k in range(CList.shape[0]):\n",
    "    for q in range(W.size):\n",
    "        res = res + indicator( (B[k,:,:] @ X[q,:] + Points[CList[k,0]])[None,:], phiA, phiB )[:,None] * W[q] * dtB[k,None]\n",
    "print('Unvectorised: %1.3f seconds.' % (time.time() - t))\n",
    "\n",
    "t = time.time()\n",
    "res = 0\n",
    "for q in range(W.size):\n",
    "    res = res + indicator( B @ X[q,:] + Points[CList[:,0]], phiA, phiB )[:,None] * W[q] * dtB[:,None]\n",
    "res = np.sum( res )\n",
    "print('Vectorised: %1.3f seconds.' % (time.time() - t))\n",
    "\n",
    "#Unvectorised: 109.781 seconds.\n",
    "#Vectorised: 0.254 seconds."
   ]
  },
  {
   "cell_type": "code",
   "execution_count": null,
   "id": "0c90a3d5",
   "metadata": {},
   "outputs": [],
   "source": [
    "print('Volume computed using quadrature %0.8e.' % ( res ) )\n",
    "print('Volume computed  analytically    %0.8e.' % ( 2 * np.pi ** 2 * r ** 2 * R / 8 ) )"
   ]
  }
 ],
 "metadata": {
  "kernelspec": {
   "display_name": "Python 3",
   "language": "python",
   "name": "python3"
  },
  "language_info": {
   "codemirror_mode": {
    "name": "ipython",
    "version": 3
   },
   "file_extension": ".py",
   "mimetype": "text/x-python",
   "name": "python",
   "nbconvert_exporter": "python",
   "pygments_lexer": "ipython3",
   "version": "3.8.8"
  }
 },
 "nbformat": 4,
 "nbformat_minor": 5
}

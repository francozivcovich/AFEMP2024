{
 "cells": [
  {
   "cell_type": "markdown",
   "id": "b647379b",
   "metadata": {},
   "source": [
    "# Brief introduction to Python\n",
    "\n",
    "In this notebook we explore together some Python features, especially we will focus on Numpy, a package for scientific computing that closely resembles Matlab.\n",
    "\n",
    "You are all invited to check https://numpy.org/doc/stable/user/numpy-for-matlab-users.html for a complete Numpy for Matlab users guide.\n",
    "\n",
    "Let's begin. Say we come from Matlab and we kid ourselves into thinking that we can just do that:"
   ]
  },
  {
   "cell_type": "code",
   "execution_count": null,
   "id": "08f89dd2",
   "metadata": {},
   "outputs": [],
   "source": [
    "a = [1,2,3]"
   ]
  },
  {
   "cell_type": "markdown",
   "id": "b229967f",
   "metadata": {},
   "source": [
    "and have an array with the expected Matlab's vectors behavior"
   ]
  },
  {
   "cell_type": "code",
   "execution_count": null,
   "id": "f99f14ce",
   "metadata": {},
   "outputs": [],
   "source": [
    "a"
   ]
  },
  {
   "cell_type": "markdown",
   "id": "9d0c7ce5",
   "metadata": {},
   "source": [
    "Well, that doesn't look so bad, right? Let's try now"
   ]
  },
  {
   "cell_type": "code",
   "execution_count": 2,
   "id": "cba31029",
   "metadata": {},
   "outputs": [
    {
     "data": {
      "text/plain": [
       "[1, 2, 3, 1, 2, 3, 1, 2, 3]"
      ]
     },
     "execution_count": 2,
     "metadata": {},
     "output_type": "execute_result"
    }
   ],
   "source": [
    "3*a"
   ]
  },
  {
   "cell_type": "raw",
   "id": "5020b293",
   "metadata": {},
   "source": []
  },
  {
   "cell_type": "code",
   "execution_count": 3,
   "id": "54a5883e",
   "metadata": {},
   "outputs": [
    {
     "data": {
      "text/plain": [
       "[1, 'a', [1, 2]]"
      ]
     },
     "execution_count": 3,
     "metadata": {},
     "output_type": "execute_result"
    }
   ],
   "source": [
    "# what the\n",
    "# well, a is a \"tuple\", that is an heterogeneous collection of 3 objects\n",
    "# as a matter of fact, one can also write\n",
    "a = [ 1,'a',[1,2]]\n",
    "a"
   ]
  },
  {
   "cell_type": "code",
   "execution_count": 4,
   "id": "8dc11662",
   "metadata": {},
   "outputs": [
    {
     "data": {
      "text/plain": [
       "array([3, 6, 9])"
      ]
     },
     "execution_count": 4,
     "metadata": {},
     "output_type": "execute_result"
    }
   ],
   "source": [
    "# pretty confusing\n",
    "# what we actually want (a MATLAB-like behaviour)\n",
    "# is offered by the Numpy package\n",
    "import numpy as np  # that we have to import\n",
    "\n",
    "a = np.array([1,2,3])\n",
    "3*a # Better, right?"
   ]
  },
  {
   "cell_type": "code",
   "execution_count": 5,
   "id": "722332c1",
   "metadata": {},
   "outputs": [],
   "source": [
    "# Provided we use Numpy arrays to do our things\n",
    "# Python works pretty much like MATLAB, with some caveats:"
   ]
  },
  {
   "cell_type": "code",
   "execution_count": 6,
   "id": "5d06eb28",
   "metadata": {},
   "outputs": [
    {
     "name": "stdout",
     "output_type": "stream",
     "text": [
      "1\n"
     ]
    }
   ],
   "source": [
    "# 0. - the first element of something is indexed as 0 and not 1\n",
    "a = np.array([1,2,3])\n",
    "print(a[0])"
   ]
  },
  {
   "cell_type": "code",
   "execution_count": 7,
   "id": "3a94594a",
   "metadata": {},
   "outputs": [
    {
     "name": "stdout",
     "output_type": "stream",
     "text": [
      "1\n",
      "100\n",
      "100\n"
     ]
    }
   ],
   "source": [
    "# 1. - unless differently specified, in Python everything\n",
    "# works as if it was \"pointed at\"\n",
    "\n",
    "a = np.array([1,2,3])\n",
    "print(a[0]) # as expected\n",
    "\n",
    "b = a\n",
    "b[0] = 100\n",
    "print(a[0]) # very unexpected\n",
    "\n",
    "c = a.copy()\n",
    "c[0] = -1\n",
    "print(a[0]) # back to expected behavior"
   ]
  },
  {
   "cell_type": "code",
   "execution_count": 8,
   "id": "97a6b48a",
   "metadata": {},
   "outputs": [
    {
     "name": "stdout",
     "output_type": "stream",
     "text": [
      "(2, 3)\n",
      "- - - - - - - - - - - - - - - - - - - - - - - - - - - - \n",
      "(3,)\n",
      "(2,)\n",
      "- - - - - - - - - - - - - - - - - - - - - - - - - - - - \n",
      "(2, 1)\n",
      "(1, 2)\n",
      "(3, 1)\n",
      "(1, 3)\n",
      "- - - - - - - - - - - - - - - - - - - - - - - - - - - - \n",
      "(3,)\n",
      "(1, 2, 1, 1)\n"
     ]
    }
   ],
   "source": [
    "# 2. - Numpy is less pedantic with array shapes\n",
    "# this is unsettling at first but you'll learn to love it\n",
    "A = np.array([[1,2,3],[4,5,6]])\n",
    "print( A.shape ) # as expected\n",
    "print('- - - - - - - - - - - - - - - - - - - - - - - - - - - - ')\n",
    "\n",
    "a = A[0,:] # we would expect its size to be (1,3)\n",
    "print( a.shape ) # unexpected\n",
    "\n",
    "a = A[:,0] # we would expect its size to be (2,1)\n",
    "print( a.shape ) # unexpected\n",
    "\n",
    "print('- - - - - - - - - - - - - - - - - - - - - - - - - - - - ')\n",
    "\n",
    "print( A[:,0][:,None].shape ) # back to expected behavior\n",
    "print( A[:,0][None,:].shape ) # back to expected behavior\n",
    "print( A[0,:][:,None].shape ) # back to expected behavior\n",
    "print( A[0,:][None,:].shape ) # back to expected behavior\n",
    "\n",
    "print('- - - - - - - - - - - - - - - - - - - - - - - - - - - - ')\n",
    "\n",
    "print( np.array([1,2,3]).shape ) # maybe you didn't expect it yet\n",
    "\n",
    "print( a[None,:,None,None].shape ) # lol"
   ]
  },
  {
   "cell_type": "code",
   "execution_count": 9,
   "id": "2f00c1bf",
   "metadata": {},
   "outputs": [
    {
     "name": "stdout",
     "output_type": "stream",
     "text": [
      "print all a\n",
      "[1 2 3 4 5 6]\n",
      "[1 2 3 4 5 6]\n",
      "[1 2 3 4 5 6]\n",
      "print the first 3 entries of a\n",
      "[1 2 3]\n",
      "[1 2 3]\n",
      "[1 2 3]\n",
      "print from second to last entry\n",
      "[2 3 4 5 6]\n",
      "print last element of a\n",
      "6\n",
      "print second to last element of a\n",
      "5\n",
      "print from third (3, so index 2) to second to last element (5, that is -2)\n",
      "[3 4 5]\n"
     ]
    }
   ],
   "source": [
    "# 4. - now look at this indexing\n",
    "\n",
    "a = np.array([1,2,3,4,5,6])\n",
    "\n",
    "print('print all a')\n",
    "print( a )\n",
    "print( a[:])\n",
    "print( a[0:])\n",
    "\n",
    "print('print the first 3 entries of a')\n",
    "print( a[0:3] )      # unexpected, right? You would have said a[0:2], like, 0,1,2!\n",
    "print( a[range(3)] ) # unexpected, right?\n",
    "print( a[:3] )       # unexpected, right?\n",
    "\n",
    "print('print from second to last entry')\n",
    "print( a[1:] )\n",
    "\n",
    "print('print last element of a')\n",
    "print( a[-1] )\n",
    "\n",
    "print('print second to last element of a')\n",
    "print( a[-2] )\n",
    "\n",
    "print('print from third (3, so index 2) to second to last element (5, that is -2)')\n",
    "print( a[2:-1] ) # when n:m remember that m is not included!\n",
    "\n",
    "# it gets time..."
   ]
  },
  {
   "cell_type": "code",
   "execution_count": 10,
   "id": "6c25732f",
   "metadata": {},
   "outputs": [],
   "source": [
    "import time"
   ]
  },
  {
   "cell_type": "code",
   "execution_count": 11,
   "id": "5c70cd0f",
   "metadata": {},
   "outputs": [
    {
     "name": "stdout",
     "output_type": "stream",
     "text": [
      "Elapsed time is 0.72 seconds.\n"
     ]
    }
   ],
   "source": [
    "# check how long it takes to do that in MATLAB\n",
    "t = time.time()\n",
    "n = 10000 # attention: if I write 1e4 it'll assume n is a float and break range, which only accepts int\n",
    "m = 1000  # attention: if I write 1e3 it'll assume m is a float and break range, which only accepts int\n",
    "for i in range(n):\n",
    "    for j in range(m):\n",
    "        c = 1.\n",
    "print('Elapsed time is %1.2f seconds.' % ( time.time() - t ) ) # 720ms\n",
    "# in MATLAB this takes 53ms first launch, then 8ms on avg.\n",
    "# in    C++ this takes 18ms because I'm bad at C++ or it would be pointwise faster than MATLAB\n",
    "# also, https://www.youtube.com/watch?v=d7KHAVaX_Rs"
   ]
  },
  {
   "cell_type": "code",
   "execution_count": 12,
   "id": "3c1d5a8d",
   "metadata": {},
   "outputs": [
    {
     "name": "stdout",
     "output_type": "stream",
     "text": [
      "[[0 1 2]\n",
      " [3 4 5]\n",
      " [6 7 8]]\n",
      "[[0 1 2]\n",
      " [3 4 5]\n",
      " [6 7 8]]\n",
      "[[ 0  1  4]\n",
      " [ 9 16 25]\n",
      " [36 49 64]]\n",
      "[[ 15  18  21]\n",
      " [ 42  54  66]\n",
      " [ 69  90 111]]\n"
     ]
    }
   ],
   "source": [
    "# As for the rest, you do pretty much what you would do in MATLAB\n",
    "# constantly making sure that everything checks out\n",
    "\n",
    "# Example 01:\n",
    "\n",
    "A = np.array( range(3*3) ).reshape(3,3)\n",
    "B = np.array( range(3*3) ).reshape(3,3)\n",
    "\n",
    "print( A )\n",
    "print( B )\n",
    "print(A*B) # unexpected, right?\n",
    "print(A@B) # that's what you wanted"
   ]
  },
  {
   "cell_type": "code",
   "execution_count": 13,
   "id": "41549636",
   "metadata": {},
   "outputs": [
    {
     "name": "stdout",
     "output_type": "stream",
     "text": [
      "print(np.linalg.norm(A-B)):\n",
      "2.8284271247461903\n"
     ]
    },
    {
     "data": {
      "text/plain": [
       "array([[ 1.00000000e+00,  9.73505326e-17,  1.24547516e-16],\n",
       "       [ 1.09070332e-17,  1.00000000e+00, -3.14070577e-16],\n",
       "       [-6.90358317e-17,  2.41603033e-16,  1.00000000e+00]])"
      ]
     },
     "execution_count": 13,
     "metadata": {},
     "output_type": "execute_result"
    }
   ],
   "source": [
    "# Example 02: sometimes not exactly immediately\n",
    "\n",
    "A = np.array([[1,2],[2,1]])\n",
    "B = np.eye(2)\n",
    "\n",
    "print('print(np.linalg.norm(A-B)):')\n",
    "print(np.linalg.norm(A-B))\n",
    "\n",
    "# Example 03: sometimes, some of the MATLAB functions you are used to can be found inside a package called Scipy\n",
    "from scipy import linalg\n",
    "A = np.random.randn(3,3)\n",
    "A.dot( linalg.inv(A) )\n"
   ]
  },
  {
   "cell_type": "code",
   "execution_count": 14,
   "id": "be41d5d0",
   "metadata": {},
   "outputs": [
    {
     "name": "stdout",
     "output_type": "stream",
     "text": [
      "Elapsed time is 1.26 seconds.\n"
     ]
    }
   ],
   "source": [
    "# now pay attention\n",
    "A = np.random.randn(2000,10000)\n",
    "B = np.random.randn(10000,2000)\n",
    "\n",
    "t = time.time()\n",
    "C = A@B\n",
    "print('Elapsed time is %1.2f seconds.' % ( time.time() - t ) ) # 1.21s vs MATLAB's 1.22s\n",
    "\n",
    "# why that? Because both MATLAB and Numpy are run BLAS routines under the hood\n"
   ]
  },
  {
   "cell_type": "code",
   "execution_count": 15,
   "id": "b8248d15",
   "metadata": {},
   "outputs": [
    {
     "name": "stdout",
     "output_type": "stream",
     "text": [
      "print( C.shape ):\n",
      "(10, 3, 3)\n",
      "print( F.shape ):\n",
      "(3, 4, 5, 3)\n"
     ]
    }
   ],
   "source": [
    "# but Numpy is a bit more clever!\n",
    "# according to Numpy, an array with shape (n,m,p) and a (n,p,l) shaped array can be multiplied together\n",
    "n = 10\n",
    "m = 3\n",
    "p = 2 \n",
    "l = 3\n",
    "A = np.array(range(n*m*p)).reshape(n,m,p)\n",
    "B = np.array(range(n*p*l)).reshape(n,p,l)\n",
    "C = A @ B\n",
    "print('print( C.shape ):')\n",
    "print( C.shape )\n",
    "# Numpy in fact sees A as an n-stack of matrices (m,p) multiplied each for the corresponding mate from\n",
    "# the n-stack of matrices (p,l) B\n",
    "# this can be generalised\n",
    "\n",
    "D = np.random.randn(3,4,5,6) # a (3,4) stack of (5,6) arrays\n",
    "E = np.random.randn(3,4,6,3) # a (3,4) stack of (6,3) arrays\n",
    "F = D @ E\n",
    "print('print( F.shape ):')\n",
    "print( F.shape ) "
   ]
  },
  {
   "cell_type": "code",
   "execution_count": 16,
   "id": "25910425",
   "metadata": {},
   "outputs": [
    {
     "name": "stdout",
     "output_type": "stream",
     "text": [
      "Strided transposition.     Elapsed time is 0.00 seconds.\n",
      "Strided matmul-tiplication. Elapsed time is 6.21 seconds.\n",
      "Actual transposition.      Elapsed time is 0.47 seconds.\n",
      "Actual matmul-tiplication.  Elapsed time is 0.08 seconds.\n"
     ]
    }
   ],
   "source": [
    "# Also, numpy supports strided transposition\n",
    "Na = 500\n",
    "Nb = 200\n",
    "Nc = 200\n",
    "Nd = 30\n",
    "C = np.random.randn(Na,Nb,Nc)\n",
    "A = np.random.randn(Nd,Na)\n",
    "\n",
    "t = time.time()\n",
    "D = C.transpose([2,0,1])\n",
    "print('Strided transposition.     Elapsed time is %1.2f seconds.' % ( time.time() - t ) )\n",
    "t = time.time()\n",
    "D = A @ D\n",
    "print('Strided matmul-tiplication. Elapsed time is %1.2f seconds.' % ( time.time() - t ) )\n",
    "\n",
    "t = time.time()\n",
    "E = np.ascontiguousarray(C.transpose([2,0,1]))\n",
    "print('Actual transposition.      Elapsed time is %1.2f seconds.' % ( time.time() - t ) )\n",
    "t = time.time()\n",
    "E = A @ E\n",
    "print('Actual matmul-tiplication.  Elapsed time is %1.2f seconds.' % ( time.time() - t ) )"
   ]
  },
  {
   "cell_type": "code",
   "execution_count": 17,
   "id": "98aa71d1",
   "metadata": {},
   "outputs": [
    {
     "name": "stdout",
     "output_type": "stream",
     "text": [
      "7.506300914234699e-16\n"
     ]
    }
   ],
   "source": [
    "print( np.linalg.norm(D-E)/np.linalg.norm(D) )"
   ]
  }
 ],
 "metadata": {
  "kernelspec": {
   "display_name": "Python 3",
   "language": "python",
   "name": "python3"
  },
  "language_info": {
   "codemirror_mode": {
    "name": "ipython",
    "version": 3
   },
   "file_extension": ".py",
   "mimetype": "text/x-python",
   "name": "python",
   "nbconvert_exporter": "python",
   "pygments_lexer": "ipython3",
   "version": "3.8.8"
  }
 },
 "nbformat": 4,
 "nbformat_minor": 5
}

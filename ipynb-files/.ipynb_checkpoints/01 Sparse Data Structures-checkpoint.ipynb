{
 "cells": [
  {
   "cell_type": "markdown",
   "id": "486af085",
   "metadata": {},
   "source": [
    "# Sparse Data Structures\n",
    "\n",
    "While Scientific Computing you'll find out that often you carry around matrices where most of the elements are zero.\n",
    "\n",
    "There is no strict definition regarding the proportion of zero-value elements for a matrix to qualify as sparse but a common criterion is that the number of non-zero elements is roughly equal to the number of rows or columns.\n",
    "\n",
    "By contrast, if most of the elements are non-zero, the matrix is considered dense.\n",
    "\n",
    "The number of zero-valued elements divided by the total number of elements ($mn$ for an $m \\times n$ matrix) is sometimes referred to as the sparsity of the matrix.\n",
    "\n",
    "\n",
    "Every tool for Scientific Computing programming has its own way to handle such sparse data structures. Some are better than others. \n",
    "Matlab's is not primed for parallel computing, only accepts double precision sparse data, and it only provides one sparse format (could you tell me which one?). These are pretty huge limitations.\n",
    "\n",
    "Luckily, all these limitations are gone in Python, in fact, Scipy has its own sparse class: https://docs.scipy.org/doc/scipy/tutorial/sparse.html !\n",
    "\n",
    "Let's explore together sparse data structures!"
   ]
  },
  {
   "cell_type": "code",
   "execution_count": 5,
   "id": "55f01a53",
   "metadata": {},
   "outputs": [],
   "source": [
    "import numpy as np\n",
    "import scipy.sparse as sps"
   ]
  },
  {
   "cell_type": "code",
   "execution_count": 6,
   "id": "7a3648b7",
   "metadata": {},
   "outputs": [
    {
     "name": "stdout",
     "output_type": "stream",
     "text": [
      "[0. 1. 2. 3. 4. 5. 6. 7.]\n",
      "[0 4 1 3 4 0 5 5]\n",
      "[2 5 6 3 2 2 5 5]\n"
     ]
    }
   ],
   "source": [
    "m = 7\n",
    "n = 7\n",
    "n_nonzero = 8\n",
    "\n",
    "a = np.array(range(8)).astype(float)\n",
    "i = np.array([0, 4, 1, 3, 4, 0, 5, 5])\n",
    "j = np.array([2, 5, 6, 3, 2, 2, 5, 5])\n",
    "\n",
    "print( a )\n",
    "print( i )\n",
    "print( j )"
   ]
  },
  {
   "cell_type": "markdown",
   "id": "3877a8ca",
   "metadata": {},
   "source": [
    "# COO Sparse type\n",
    "\n",
    "The COO sparse data type is the intuitive one. This would be what you would do straight away if you were to implement your own sparse data type.\n",
    "\n",
    "Simply, this data format consists of three vectors ```i,j,a``` of lengths equal to ```A.count_nonzero()``` (number of nonzero entries of ```A```), such that the kth element ```a[k]``` is in position ```i[k]```, ```j[k]```:\n",
    "\n",
    "```\n",
    "A[i[k], j[k]] = a[k]\n",
    "```."
   ]
  },
  {
   "cell_type": "code",
   "execution_count": 9,
   "id": "7e56838c",
   "metadata": {},
   "outputs": [],
   "source": [
    "A_coo = sps.coo_array((a, (i, j)), shape=(m, n))"
   ]
  },
  {
   "cell_type": "markdown",
   "id": "6014ee34",
   "metadata": {},
   "source": [
    "Question 01: why are these two different?"
   ]
  },
  {
   "cell_type": "code",
   "execution_count": 10,
   "id": "d5b66390",
   "metadata": {},
   "outputs": [
    {
     "name": "stdout",
     "output_type": "stream",
     "text": [
      "(6, 7)\n",
      "(7, 7)\n"
     ]
    }
   ],
   "source": [
    "print( sps.coo_array((a, (i, j))).shape )\n",
    "print( A_coo.shape ) # why??"
   ]
  },
  {
   "cell_type": "markdown",
   "id": "922a7093",
   "metadata": {},
   "source": [
    "Question 02: why does this happen?"
   ]
  },
  {
   "cell_type": "code",
   "execution_count": 11,
   "id": "24736822",
   "metadata": {},
   "outputs": [
    {
     "name": "stdout",
     "output_type": "stream",
     "text": [
      "8\n",
      "6\n",
      "6\n"
     ]
    }
   ],
   "source": [
    "print( A_coo.getnnz() )\n",
    "print( A_coo.count_nonzero() )\n",
    "print( A_coo.getnnz() )"
   ]
  },
  {
   "cell_type": "markdown",
   "id": "353fc648",
   "metadata": {},
   "source": [
    "I''l do it again but pay attention now:"
   ]
  },
  {
   "cell_type": "code",
   "execution_count": 15,
   "id": "62b3a988",
   "metadata": {},
   "outputs": [
    {
     "name": "stdout",
     "output_type": "stream",
     "text": [
      "[0 4 1 3 4 0 5 5]\n",
      "[2 5 6 3 2 2 5 5]\n",
      "[0. 1. 2. 3. 4. 5. 6. 7.]\n"
     ]
    },
    {
     "data": {
      "text/plain": [
       "6"
      ]
     },
     "execution_count": 15,
     "metadata": {},
     "output_type": "execute_result"
    }
   ],
   "source": [
    "A_coo = sps.coo_array((a, (i, j)), shape=(m, n))\n",
    "print( A_coo.row )\n",
    "print( A_coo.col )\n",
    "print( A_coo.data )\n",
    "A_coo.count_nonzero()"
   ]
  },
  {
   "cell_type": "markdown",
   "id": "dea0a782",
   "metadata": {},
   "source": [
    "But now, magically:"
   ]
  },
  {
   "cell_type": "code",
   "execution_count": 14,
   "id": "c5f662fe",
   "metadata": {},
   "outputs": [
    {
     "name": "stdout",
     "output_type": "stream",
     "text": [
      "[0 4 3 4 5 1]\n",
      "[2 2 3 5 5 6]\n",
      "[ 5.  4.  3.  1. 13.  2.]\n"
     ]
    }
   ],
   "source": [
    "print( A_coo.row )\n",
    "print( A_coo.col )\n",
    "print( A_coo.data )"
   ]
  },
  {
   "cell_type": "markdown",
   "id": "8eb12fd4",
   "metadata": {},
   "source": [
    "# CSR Sparse type\n",
    "\n",
    "The CSR sparse data type is way less intuitive.\n",
    "\n",
    "You still have three vectors, ```indices, indptr, data```. Of different lengths this time.\n",
    "\n",
    "The column indices for the $i$th row are stored in \n",
    "\n",
    "```indices[indptr[i]:indptr[i+1]]``` \n",
    "\n",
    "and their corresponding values are stored in \n",
    "\n",
    "```data[indptr[i]:indptr[i+1]]```.\n",
    "\n",
    "But why one would ever think of something so ugly? Well, it is a format meant for increase performance of matrix-vector products. \n",
    "Let "
   ]
  },
  {
   "cell_type": "code",
   "execution_count": 24,
   "id": "70ccad42",
   "metadata": {},
   "outputs": [],
   "source": [
    "A_csr = sps.csr_array((a, (i, j)), shape=(m, n))\n",
    "v = np.random.randn(m)"
   ]
  },
  {
   "cell_type": "markdown",
   "id": "fce18921",
   "metadata": {},
   "source": [
    "be a matrix in csr format and a vector. \n",
    "The following are equivalent"
   ]
  },
  {
   "cell_type": "code",
   "execution_count": 25,
   "id": "8dbfbde5",
   "metadata": {},
   "outputs": [
    {
     "name": "stdout",
     "output_type": "stream",
     "text": [
      "The absolute error is equal to 0.000000e+00\n"
     ]
    }
   ],
   "source": [
    "f_ref   = A_csr @ v\n",
    "\n",
    "indices = A_csr.indices\n",
    "indptr  = A_csr.indptr\n",
    "data    = A_csr.data\n",
    "f = np.zeros(m)\n",
    "for i_ in range(m):\n",
    "    f[i_] = data[indptr[i_]:indptr[i_+1]] @ v[indices[indptr[i_]:indptr[i_+1]] ]\n",
    "    \n",
    "print('The absolute error is equal to %e' % np.linalg.norm(f-f_ref))"
   ]
  },
  {
   "cell_type": "markdown",
   "id": "57d2f8a8",
   "metadata": {},
   "source": [
    "Try implementing the matrix-vector product with COO format if you dare.\n",
    "\n",
    "Question 03: why this doesn't happen?"
   ]
  },
  {
   "cell_type": "code",
   "execution_count": 26,
   "id": "90ae4356",
   "metadata": {},
   "outputs": [
    {
     "name": "stdout",
     "output_type": "stream",
     "text": [
      "6\n",
      "6\n",
      "6\n"
     ]
    }
   ],
   "source": [
    "print( A_csr.getnnz() )\n",
    "print( A_csr.count_nonzero() )\n",
    "print( A_csr.getnnz() )"
   ]
  },
  {
   "cell_type": "markdown",
   "id": "ace7d862",
   "metadata": {},
   "source": [
    "Question 04: how to read this?"
   ]
  },
  {
   "cell_type": "code",
   "execution_count": 27,
   "id": "0a401c84",
   "metadata": {},
   "outputs": [
    {
     "name": "stdout",
     "output_type": "stream",
     "text": [
      "[2 6 3 2 5 5]\n",
      "[0 1 2 2 3 5 6 6]\n",
      "[ 5.  2.  3.  4.  1. 13.]\n"
     ]
    }
   ],
   "source": [
    "print( A_csr.indices )\n",
    "print( A_csr.indptr )\n",
    "print( A_csr.data )"
   ]
  },
  {
   "cell_type": "markdown",
   "id": "bbce9cc4",
   "metadata": {},
   "source": [
    "Here's the matrix in dense format"
   ]
  },
  {
   "cell_type": "code",
   "execution_count": 29,
   "id": "9ef16302",
   "metadata": {},
   "outputs": [
    {
     "name": "stdout",
     "output_type": "stream",
     "text": [
      "[[ 0.  0.  5.  0.  0.  0.  0.]\n",
      " [ 0.  0.  0.  0.  0.  0.  2.]\n",
      " [ 0.  0.  0.  0.  0.  0.  0.]\n",
      " [ 0.  0.  0.  3.  0.  0.  0.]\n",
      " [ 0.  0.  4.  0.  0.  1.  0.]\n",
      " [ 0.  0.  0.  0.  0. 13.  0.]\n",
      " [ 0.  0.  0.  0.  0.  0.  0.]]\n"
     ]
    }
   ],
   "source": [
    "print(A_csr.todense())"
   ]
  },
  {
   "cell_type": "markdown",
   "id": "5f4f99be",
   "metadata": {},
   "source": [
    "# LIL Sparse type\n",
    "\n",
    "This is nice, is the List of Lists sparse data format.\n",
    "The explanation basically lies in its name, easier to show than say:"
   ]
  },
  {
   "cell_type": "code",
   "execution_count": 33,
   "id": "d11de37d",
   "metadata": {},
   "outputs": [
    {
     "name": "stdout",
     "output_type": "stream",
     "text": [
      "[[ 0.  0.  5.  0.  0.  0.  0.]\n",
      " [ 0.  0.  0.  0.  0.  0.  2.]\n",
      " [ 0.  0.  0.  0.  0.  0.  0.]\n",
      " [ 0.  0.  0.  3.  0.  0.  0.]\n",
      " [ 0.  0.  4.  0.  0.  1.  0.]\n",
      " [ 0.  0.  0.  0.  0. 13.  0.]\n",
      " [ 0.  0.  0.  0.  0.  0.  0.]]\n"
     ]
    }
   ],
   "source": [
    "A_lil = sps.lil_array(A_coo)\n",
    "print(A_lil.todense())"
   ]
  },
  {
   "cell_type": "markdown",
   "id": "d9f9b730",
   "metadata": {},
   "source": [
    "Question 05: how to read this?"
   ]
  },
  {
   "cell_type": "code",
   "execution_count": 56,
   "id": "b74bb0df",
   "metadata": {},
   "outputs": [
    {
     "name": "stdout",
     "output_type": "stream",
     "text": [
      "[list([2]) list([6]) list([]) list([3]) list([2, 5]) list([5]) list([])]\n"
     ]
    },
    {
     "data": {
      "text/plain": [
       "5"
      ]
     },
     "execution_count": 56,
     "metadata": {},
     "output_type": "execute_result"
    }
   ],
   "source": [
    "print( A_lil.rows )\n",
    "A_lil.rows[4][1] # entry (4,5) then"
   ]
  },
  {
   "cell_type": "code",
   "execution_count": 58,
   "id": "3307f5a6",
   "metadata": {},
   "outputs": [
    {
     "name": "stdout",
     "output_type": "stream",
     "text": [
      "[list([5.0]) list([2.0]) list([]) list([3.0]) list([4.0, 1.0])\n",
      " list([13.0]) list([])]\n"
     ]
    },
    {
     "data": {
      "text/plain": [
       "1.0"
      ]
     },
     "execution_count": 58,
     "metadata": {},
     "output_type": "execute_result"
    }
   ],
   "source": [
    "print( A_lil.data )\n",
    "A_lil.data[4][1] # we still access data like this"
   ]
  },
  {
   "cell_type": "code",
   "execution_count": 60,
   "id": "55e51373",
   "metadata": {},
   "outputs": [
    {
     "data": {
      "text/plain": [
       "1.0"
      ]
     },
     "execution_count": 60,
     "metadata": {},
     "output_type": "execute_result"
    }
   ],
   "source": [
    "A_lil[4,5] # or like this implicitly calling something under the hood"
   ]
  },
  {
   "cell_type": "markdown",
   "id": "059296ed",
   "metadata": {},
   "source": [
    "What if I sum two different sparse type matrices (A_coo and A_csr)?"
   ]
  },
  {
   "cell_type": "code",
   "execution_count": 66,
   "id": "e92726d8",
   "metadata": {},
   "outputs": [
    {
     "data": {
      "text/plain": [
       "<7x7 sparse array of type '<class 'numpy.float64'>'\n",
       "\twith 6 stored elements in Compressed Sparse Row format>"
      ]
     },
     "execution_count": 66,
     "metadata": {},
     "output_type": "execute_result"
    }
   ],
   "source": [
    "C_ = A_coo + A_csr\n",
    "C_"
   ]
  },
  {
   "cell_type": "markdown",
   "id": "5105a307",
   "metadata": {},
   "source": [
    "What if I sum two different sparse type matrices (A_csr and A_lil)?"
   ]
  },
  {
   "cell_type": "code",
   "execution_count": 67,
   "id": "14401585",
   "metadata": {},
   "outputs": [
    {
     "data": {
      "text/plain": [
       "<7x7 sparse array of type '<class 'numpy.float64'>'\n",
       "\twith 6 stored elements in Compressed Sparse Row format>"
      ]
     },
     "execution_count": 67,
     "metadata": {},
     "output_type": "execute_result"
    }
   ],
   "source": [
    "D_ = A_csr + A_lil\n",
    "D_"
   ]
  },
  {
   "cell_type": "markdown",
   "id": "5f48707c",
   "metadata": {},
   "source": [
    "What if I sum two different sparse type matrices (A_coo and A_lil)?"
   ]
  },
  {
   "cell_type": "code",
   "execution_count": 69,
   "id": "e75710f9",
   "metadata": {},
   "outputs": [
    {
     "data": {
      "text/plain": [
       "<7x7 sparse array of type '<class 'numpy.float64'>'\n",
       "\twith 6 stored elements in Compressed Sparse Row format>"
      ]
     },
     "execution_count": 69,
     "metadata": {},
     "output_type": "execute_result"
    }
   ],
   "source": [
    "E_ = A_coo + A_lil\n",
    "E_"
   ]
  },
  {
   "cell_type": "markdown",
   "id": "e66193ff",
   "metadata": {},
   "source": [
    "Now let's setup some serious tests."
   ]
  },
  {
   "cell_type": "code",
   "execution_count": 9,
   "id": "f9f96425",
   "metadata": {},
   "outputs": [],
   "source": [
    "import time\n",
    "\n",
    "m = 1000 * 1000\n",
    "n = 1000 * 1000\n",
    "n_nonzero = 50 * m\n",
    "\n",
    "a = np.random.randn(n_nonzero)\n",
    "i = np.random.randint(0,m,size=(n_nonzero))\n",
    "j = np.random.randint(0,n,size=(n_nonzero))\n",
    "\n",
    "v = np.random.randn(m)\n",
    "\n",
    "\n",
    "A_coo = sps.coo_array((a, (i, j)), shape=(m, n))\n",
    "A_csr = A_coo.tocsr()\n",
    "A_lil = A_coo.tolil()"
   ]
  },
  {
   "cell_type": "code",
   "execution_count": 10,
   "id": "8364d4ff",
   "metadata": {},
   "outputs": [
    {
     "name": "stdout",
     "output_type": "stream",
     "text": [
      "COO matrix-vector product. Elapsed time 1.053 seconds.\n",
      "CSR matrix-vector product. Elapsed time 0.328 seconds.\n",
      "LIL matrix-vector product. Elapsed time 2.862 seconds.\n"
     ]
    }
   ],
   "source": [
    "t = time.time()\n",
    "f_coo = A_coo @ v\n",
    "print('COO matrix-vector product. Elapsed time %1.3f seconds.' % (time.time() - t))\n",
    "\n",
    "t = time.time()\n",
    "f_csr = A_csr @ v\n",
    "print('CSR matrix-vector product. Elapsed time %1.3f seconds.' % (time.time() - t))\n",
    "\n",
    "t = time.time()\n",
    "f_lil = A_lil @ v\n",
    "print('LIL matrix-vector product. Elapsed time %1.3f seconds.' % (time.time() - t))"
   ]
  },
  {
   "cell_type": "code",
   "execution_count": 11,
   "id": "3c491989",
   "metadata": {},
   "outputs": [
    {
     "name": "stdout",
     "output_type": "stream",
     "text": [
      "COO column slicing not possible.\n",
      "CSR column slicing. Elapsed time 1.070 seconds.\n",
      "LIL column slicing. Elapsed time 0.370 seconds.\n",
      " \n",
      "COO row slicing not possible.\n",
      "CSR row slicing. Elapsed time 0.991 seconds.\n",
      "LIL row slicing. Elapsed time 0.411 seconds.\n"
     ]
    }
   ],
   "source": [
    "print('COO column slicing not possible.')\n",
    "\n",
    "t = time.time()\n",
    "for k in range( 10000 ):\n",
    "    A_csr[[k],:]\n",
    "print('CSR column slicing. Elapsed time %1.3f seconds.' % (time.time() - t))\n",
    "\n",
    "t = time.time()\n",
    "for k in range( 10000 ):\n",
    "    A_lil[[k],:]\n",
    "print('LIL column slicing. Elapsed time %1.3f seconds.' % (time.time() - t))\n",
    "\n",
    "print(' ')\n",
    "print('COO row slicing not possible.')\n",
    "\n",
    "t = time.time()\n",
    "for k in range( 10000 ):\n",
    "    A_csr[[k],:]\n",
    "print('CSR row slicing. Elapsed time %1.3f seconds.' % (time.time() - t))\n",
    "\n",
    "t = time.time()\n",
    "for k in range( 10000 ):\n",
    "    A_lil[[k],:]\n",
    "print('LIL row slicing. Elapsed time %1.3f seconds.' % (time.time() - t))"
   ]
  },
  {
   "cell_type": "code",
   "execution_count": 12,
   "id": "15b18667",
   "metadata": {},
   "outputs": [
    {
     "name": "stdout",
     "output_type": "stream",
     "text": [
      "COO sparsity structure changing not possible\n"
     ]
    },
    {
     "name": "stderr",
     "output_type": "stream",
     "text": [
      "/opt/anaconda3/lib/python3.8/site-packages/scipy/sparse/_index.py:146: SparseEfficiencyWarning: Changing the sparsity structure of a csr_matrix is expensive. lil_matrix is more efficient.\n",
      "  self._set_arrayXarray(i, j, x)\n"
     ]
    },
    {
     "name": "stdout",
     "output_type": "stream",
     "text": [
      "CSR changed sparsity structure. Elapsed time 79.660 seconds.\n",
      "LIL changed sparsity structure. Elapsed time 0.011 seconds.\n"
     ]
    }
   ],
   "source": [
    "print('COO sparsity structure changing not possible.')\n",
    "\n",
    "t = time.time()\n",
    "for k in range( 100 ):\n",
    "    k_ = np.random.randint(0,m,1)\n",
    "    A_csr[[k_],[k_]] = k_\n",
    "print('CSR changed sparsity structure. Elapsed time %1.3f seconds.' % (time.time() - t))\n",
    "\n",
    "t = time.time()\n",
    "for k in range( 100 ):\n",
    "    k_ = np.random.randint(0,m,1)\n",
    "    A_lil[[k_],[k_]] = k_\n",
    "print('LIL changed sparsity structure. Elapsed time %1.3f seconds.' % (time.time() - t))"
   ]
  },
  {
   "cell_type": "code",
   "execution_count": 13,
   "id": "222160ff",
   "metadata": {},
   "outputs": [
    {
     "name": "stdout",
     "output_type": "stream",
     "text": [
      "COO summation. Elapsed time 23.378 seconds.\n",
      "CSR summation. Elapsed time 9.510 seconds.\n",
      "LIL summation. Elapsed time 44.568 seconds.\n"
     ]
    }
   ],
   "source": [
    "t = time.time()\n",
    "B_coo = A_coo + A_coo.T\n",
    "print('COO summation. Elapsed time %1.3f seconds.' % (time.time() - t))\n",
    "\n",
    "t = time.time()\n",
    "B_csr = A_csr + A_csr.T\n",
    "print('CSR summation. Elapsed time %1.3f seconds.' % (time.time() - t))\n",
    "\n",
    "t = time.time()\n",
    "B_lil = A_lil + A_lil.T\n",
    "print('LIL summation. Elapsed time %1.3f seconds.' % (time.time() - t))"
   ]
  },
  {
   "cell_type": "code",
   "execution_count": 25,
   "id": "3e4193ee",
   "metadata": {},
   "outputs": [
    {
     "name": "stdout",
     "output_type": "stream",
     "text": [
      "COO transposition. Elapsed time 1.641 seconds.\n",
      "COO actual transposition. Elapsed time 2.159 seconds.\n",
      "CSR transposition. Elapsed time 0.010 seconds.\n",
      "CSR actual transposition. Elapsed time 2.860 seconds.\n",
      "LIL transposition. Elapsed time 55.400 seconds.\n",
      "LIL actual transposition. Elapsed time 151.715 seconds.\n"
     ]
    }
   ],
   "source": [
    "t = time.time()\n",
    "B_coo = A_coo.T # indexes get manipulated, data is NOT copied\n",
    "print('COO transposition. Elapsed time %1.3f seconds.' % (time.time() - t))\n",
    "\n",
    "t = time.time()\n",
    "B_coo = A_coo.T.copy() # indexes get manipulated, data is copied\n",
    "print('COO actual transposition. Elapsed time %1.3f seconds.' % (time.time() - t))\n",
    "\n",
    "t = time.time()\n",
    "B_csr = A_csr.T # indexes are NOT manipulated, data is NOT copied\n",
    "print('CSR transposition. Elapsed time %1.3f seconds.' % (time.time() - t))\n",
    "\n",
    "t = time.time()\n",
    "B_csr = A_csr.T.copy() # indexes are manipulated, data is copied\n",
    "print('CSR actual transposition. Elapsed time %1.3f seconds.' % (time.time() - t))\n",
    "\n",
    "t = time.time()\n",
    "B_lil = A_lil.T # everything has to change\n",
    "print('LIL transposition. Elapsed time %1.3f seconds.' % (time.time() - t))\n",
    "\n",
    "t = time.time()\n",
    "B_lil = A_lil.T.copy() # everything has to change but Idk why, slower...! I think A_lil.T is somehow a middle form\n",
    "print('LIL actual transposition. Elapsed time %1.3f seconds.' % (time.time() - t))"
   ]
  },
  {
   "cell_type": "code",
   "execution_count": null,
   "id": "19e8e7b7",
   "metadata": {},
   "outputs": [],
   "source": [
    "# How come A_csr can be transposed so easily (when .copy() is not invoked)?\n",
    "# Well, how would you code A_csr.T @ v?\n",
    "# it's not immediate to explain, go check https://people.eecs.berkeley.edu/~aydin/talks/csb-spaa.pdf"
   ]
  },
  {
   "cell_type": "code",
   "execution_count": 15,
   "id": "7f11caf5",
   "metadata": {},
   "outputs": [],
   "source": [
    "# TO SUM UP:\n",
    "\n",
    "# Advantages of the COO format\n",
    "# - very fast conversion to and from CSR/CSC formats\n",
    "# - permits duplicate entries (see example)\n",
    "\n",
    "# Disadvantages of the COO format\n",
    "# - does not directly support arithmetic operations\n",
    "# - not so fast at matrix vector products (consider CSR or CSC)\n",
    "\n",
    "\n",
    "# Advantages of the CSR format\n",
    "# - efficient arithmetic operations CSR + CSR, CSR * CSR, etc.\n",
    "# - efficient row slicing\n",
    "# - fast matrix vector products\n",
    "\n",
    "# Disadvantages of the CSR format\n",
    "# - slow column slicing operations (consider CSC)\n",
    "# - changes to the sparsity structure are expensive (consider LIL or DOK)\n",
    "\n",
    "\n",
    "# Advantages of the LIL format\n",
    "# - supports flexible slicing\n",
    "# - changes to the matrix sparsity structure are efficient\n",
    "\n",
    "# Disadvantages of the LIL format\n",
    "# - arithmetic operations LIL + LIL are slow (consider CSR or CSC)\n",
    "# - slow column slicing (consider CSC)\n",
    "# - slow matrix vector products (consider CSR or CSC)\n",
    "\n"
   ]
  }
 ],
 "metadata": {
  "kernelspec": {
   "display_name": "Python 3",
   "language": "python",
   "name": "python3"
  },
  "language_info": {
   "codemirror_mode": {
    "name": "ipython",
    "version": 3
   },
   "file_extension": ".py",
   "mimetype": "text/x-python",
   "name": "python",
   "nbconvert_exporter": "python",
   "pygments_lexer": "ipython3",
   "version": "3.8.8"
  }
 },
 "nbformat": 4,
 "nbformat_minor": 5
}

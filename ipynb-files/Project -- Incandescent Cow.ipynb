{
 "cells": [
  {
   "cell_type": "markdown",
   "id": "d014fc20",
   "metadata": {},
   "source": [
    "# Project: Incandescent Cow\n",
    "\n",
    "\n",
    "We just got a job at a Toy factory! In a production line, a toy cow (of about 17cm of height) is produced by moulding an hollow aluminum hull that is then set to cool on a fresh and ventilated surface at room temperature.\n",
    "\n",
    "When the (whole) toy has a temperature lower than $60^\\circ C$, it is deemed safe for the workers to grab the product and place it in its packaging.\n",
    "\n",
    "Assuming that room temperature is $T_r = 30^\\circ C$, that moulding temperature is $400^\\circ C$, and that the toy cow's feet (the bottom 25mm) are already at room temperature because how the moulding machine works (we're not paid to make questions, no one has the answers anyways) we are tasked to determine mathematically the amount of time it has to pass before the toy is safe to grab."
   ]
  },
  {
   "cell_type": "markdown",
   "id": "ea442d4b",
   "metadata": {},
   "source": [
    "### Heat Equation with Cooling\n",
    "\n",
    "The equation we have to solve looks like this\n",
    "$$\n",
    "T_t = k \\Delta T + r(T_r - T)\n",
    "$$\n",
    "with\n",
    "$$\n",
    "k = \\frac{1}{10}, \\quad r = \\frac{1}{4}.\n",
    "$$\n",
    "The domain (the toy's hull) was already meshed by your colleague (engineer graduate at MIT - Macerata Institute of Tegoline), he saved ```Points``` and ```CList``` in two .mat files that are in the folder ```'../mesh-files/92project/'```.\n",
    "You can load what you need by following these instructions:\n",
    "```\n",
    "import scipy.io as sio\n",
    "Points = sio.loadmat('../mesh-files/92project/muccas-Points.mat')['Points']\n",
    "CList  = sio.loadmat('../mesh-files/92project/muccas-CList.mat')['CList'] - 1\n",
    "```"
   ]
  },
  {
   "cell_type": "markdown",
   "id": "bba4ca6c",
   "metadata": {},
   "source": [
    "## The Problem\n",
    "\n",
    "1. By evolving the Heat Equation above, find the optimal $t^{\\star}$ for which the aluminum hull is at the right temperature;\n",
    "\n",
    "2. Just for showing off with the boss (because the problem we were paid to solve was solved at point 1) create a gif animation with frames of the cow's temperature evolution.\n",
    "\n",
    "In doing so, be _extra careful_ to this\n",
    "\n",
    "- Make sure you used an exponential integrator for solving this equation, to check for correctness of course you implement also an implicit scheme;\n",
    "\n",
    "- Make sure the linear operator you are exponentiating is given as an action and not as a matrix;\n",
    "\n",
    "- Make sure you are exponentiating a symmetric and NEGATIVE definite linear operator.\n",
    "\n",
    "\n",
    "The usage of the PETSc package, preconditioning techniques and whatever else is needed to make the code heavy duty is required."
   ]
  }
 ],
 "metadata": {
  "kernelspec": {
   "display_name": "Python 3",
   "language": "python",
   "name": "python3"
  },
  "language_info": {
   "codemirror_mode": {
    "name": "ipython",
    "version": 3
   },
   "file_extension": ".py",
   "mimetype": "text/x-python",
   "name": "python",
   "nbconvert_exporter": "python",
   "pygments_lexer": "ipython3",
   "version": "3.8.8"
  }
 },
 "nbformat": 4,
 "nbformat_minor": 5
}

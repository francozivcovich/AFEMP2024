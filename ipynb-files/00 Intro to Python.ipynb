{
 "cells": [
  {
   "cell_type": "markdown",
   "id": "a6093566",
   "metadata": {},
   "source": [
    "# 00: (Very) Brief introduction to Scientific Computing with Python\n",
    "\n",
    "In this notebook we explore together some Python features, especially we will focus on Numpy, a package for scientific computing that closely resembles Matlab.\n",
    "\n",
    "You are invited to check https://numpy.org/doc/stable/user/numpy-for-matlab-users.html for a complete Numpy for Matlab users guide.\n",
    "\n",
    "Let's begin. Say we come from Matlab and we kid ourselves into thinking that we can just do this:"
   ]
  },
  {
   "cell_type": "code",
   "execution_count": 1,
   "id": "5827caa8",
   "metadata": {},
   "outputs": [],
   "source": [
    "a = [1,2,3]"
   ]
  },
  {
   "cell_type": "markdown",
   "id": "227ac978",
   "metadata": {},
   "source": [
    "and have an array with the expected Matlab's vectors behavior"
   ]
  },
  {
   "cell_type": "code",
   "execution_count": 2,
   "id": "33394554",
   "metadata": {},
   "outputs": [
    {
     "data": {
      "text/plain": [
       "[1, 2, 3]"
      ]
     },
     "execution_count": 2,
     "metadata": {},
     "output_type": "execute_result"
    }
   ],
   "source": [
    "a"
   ]
  },
  {
   "cell_type": "markdown",
   "id": "b2a67dfd",
   "metadata": {},
   "source": [
    "Well, that doesn't look so bad, right? Let's try now"
   ]
  },
  {
   "cell_type": "code",
   "execution_count": 3,
   "id": "cba31029",
   "metadata": {},
   "outputs": [
    {
     "data": {
      "text/plain": [
       "[1, 2, 3, 1, 2, 3, 1, 2, 3]"
      ]
     },
     "execution_count": 3,
     "metadata": {},
     "output_type": "execute_result"
    }
   ],
   "source": [
    "3*a"
   ]
  },
  {
   "cell_type": "markdown",
   "id": "0db680e6",
   "metadata": {},
   "source": [
    "what the...?\n",
    "Well, a is a \"tuple\", that is an heterogeneous collection of 3 objects, in our case numbers. As a matter of fact, one can also write"
   ]
  },
  {
   "cell_type": "code",
   "execution_count": 4,
   "id": "54a5883e",
   "metadata": {},
   "outputs": [
    {
     "data": {
      "text/plain": [
       "[1, 'a', [1, 2]]"
      ]
     },
     "execution_count": 4,
     "metadata": {},
     "output_type": "execute_result"
    }
   ],
   "source": [
    "a = [ 1,'a',[1,2]]\n",
    "a"
   ]
  },
  {
   "cell_type": "markdown",
   "id": "e734100f",
   "metadata": {},
   "source": [
    "Pretty confusing, right? What we actually wanted was a Matlab-like behaviour, that is offered by the Numpy package:"
   ]
  },
  {
   "cell_type": "code",
   "execution_count": 5,
   "id": "8dc11662",
   "metadata": {},
   "outputs": [
    {
     "data": {
      "text/plain": [
       "array([3, 6, 9])"
      ]
     },
     "execution_count": 5,
     "metadata": {},
     "output_type": "execute_result"
    }
   ],
   "source": [
    "import numpy as np  # that we have to import\n",
    "\n",
    "a = np.array([1,2,3])\n",
    "3*a"
   ]
  },
  {
   "cell_type": "markdown",
   "id": "d6965ada",
   "metadata": {},
   "source": [
    "Much better, right? Provided we use Numpy arrays to do our things, Python works pretty much like Matlab, with some caveats:\n",
    "\n",
    "0. The first element of something is indexed as 0 (and not 1)"
   ]
  },
  {
   "cell_type": "code",
   "execution_count": 6,
   "id": "5d06eb28",
   "metadata": {},
   "outputs": [
    {
     "name": "stdout",
     "output_type": "stream",
     "text": [
      "1\n"
     ]
    }
   ],
   "source": [
    "a = np.array([1,2,3])\n",
    "print(a[0])"
   ]
  },
  {
   "cell_type": "markdown",
   "id": "e8ee47a1",
   "metadata": {},
   "source": [
    "1. Unless expressly specified, in Python everything works as it it was \"pointed at\""
   ]
  },
  {
   "cell_type": "code",
   "execution_count": 7,
   "id": "3db7ef5a",
   "metadata": {},
   "outputs": [
    {
     "name": "stdout",
     "output_type": "stream",
     "text": [
      "1\n"
     ]
    }
   ],
   "source": [
    "a = np.array([1,2,3])\n",
    "print(a[0]) # as expected"
   ]
  },
  {
   "cell_type": "code",
   "execution_count": 8,
   "id": "eb479977",
   "metadata": {},
   "outputs": [
    {
     "name": "stdout",
     "output_type": "stream",
     "text": [
      "100\n"
     ]
    }
   ],
   "source": [
    "b = a\n",
    "b[0] = 100\n",
    "print(a[0]) # very unexpected"
   ]
  },
  {
   "cell_type": "code",
   "execution_count": 9,
   "id": "3a94594a",
   "metadata": {},
   "outputs": [
    {
     "name": "stdout",
     "output_type": "stream",
     "text": [
      "100\n"
     ]
    }
   ],
   "source": [
    "c = a.copy()\n",
    "c[0] = -1\n",
    "print(a[0]) # back to expected behavior"
   ]
  },
  {
   "cell_type": "markdown",
   "id": "c20ee9ba",
   "metadata": {},
   "source": [
    "2. Numpy is less pedantic with array shapes. This is unsettling at first but you'll learn to love it"
   ]
  },
  {
   "cell_type": "code",
   "execution_count": 21,
   "id": "8186bb23",
   "metadata": {},
   "outputs": [
    {
     "name": "stdout",
     "output_type": "stream",
     "text": [
      "(2, 3)\n"
     ]
    }
   ],
   "source": [
    "A = np.array([[1,2,3],[4,5,6]])\n",
    "print( A.shape ) # as expected"
   ]
  },
  {
   "cell_type": "code",
   "execution_count": 22,
   "id": "784b048d",
   "metadata": {},
   "outputs": [
    {
     "name": "stdout",
     "output_type": "stream",
     "text": [
      "(3,)\n"
     ]
    }
   ],
   "source": [
    "a = A[0,:] # we would expect its size to be (1,3)\n",
    "print( a.shape ) # unexpected"
   ]
  },
  {
   "cell_type": "code",
   "execution_count": 23,
   "id": "7344f141",
   "metadata": {},
   "outputs": [
    {
     "name": "stdout",
     "output_type": "stream",
     "text": [
      "(2,)\n"
     ]
    }
   ],
   "source": [
    "a = A[:,0] # we would expect its size to be (2,1)\n",
    "print( a.shape ) # unexpected"
   ]
  },
  {
   "cell_type": "code",
   "execution_count": 24,
   "id": "fc716d11",
   "metadata": {},
   "outputs": [
    {
     "name": "stdout",
     "output_type": "stream",
     "text": [
      "(2, 1)\n"
     ]
    }
   ],
   "source": [
    "print( A[:,0][:,None].shape ) # back to expected behavior"
   ]
  },
  {
   "cell_type": "code",
   "execution_count": 25,
   "id": "c123bc86",
   "metadata": {},
   "outputs": [
    {
     "name": "stdout",
     "output_type": "stream",
     "text": [
      "(1, 2)\n"
     ]
    }
   ],
   "source": [
    "print( A[:,0][None,:].shape ) # back to expected behavior"
   ]
  },
  {
   "cell_type": "code",
   "execution_count": 26,
   "id": "95c47c32",
   "metadata": {},
   "outputs": [
    {
     "name": "stdout",
     "output_type": "stream",
     "text": [
      "(3, 1)\n"
     ]
    }
   ],
   "source": [
    "print( A[0,:][:,None].shape ) # back to expected behavior"
   ]
  },
  {
   "cell_type": "code",
   "execution_count": 27,
   "id": "54d8b70f",
   "metadata": {},
   "outputs": [
    {
     "name": "stdout",
     "output_type": "stream",
     "text": [
      "(1, 3)\n"
     ]
    }
   ],
   "source": [
    "print( A[0,:][None,:].shape ) # back to expected behavior"
   ]
  },
  {
   "cell_type": "code",
   "execution_count": 28,
   "id": "600a44f2",
   "metadata": {},
   "outputs": [
    {
     "name": "stdout",
     "output_type": "stream",
     "text": [
      "(3,)\n"
     ]
    }
   ],
   "source": [
    "print( np.array([1,2,3]).shape ) # maybe you didn't expect it yet"
   ]
  },
  {
   "cell_type": "code",
   "execution_count": 29,
   "id": "97a6b48a",
   "metadata": {},
   "outputs": [
    {
     "name": "stdout",
     "output_type": "stream",
     "text": [
      "(1, 2, 1, 1)\n"
     ]
    }
   ],
   "source": [
    "print( a[None,:,None,None].shape ) # lol"
   ]
  },
  {
   "cell_type": "markdown",
   "id": "26c43927",
   "metadata": {},
   "source": [
    "4. Now look at these indexing"
   ]
  },
  {
   "cell_type": "code",
   "execution_count": null,
   "id": "75ea85c0",
   "metadata": {},
   "outputs": [],
   "source": [
    "a = np.array([1,2,3,4,5,6])"
   ]
  },
  {
   "cell_type": "markdown",
   "id": "a2e6ab49",
   "metadata": {},
   "source": [
    "ways to print all a"
   ]
  },
  {
   "cell_type": "code",
   "execution_count": 39,
   "id": "8ff97c67",
   "metadata": {},
   "outputs": [
    {
     "name": "stdout",
     "output_type": "stream",
     "text": [
      "[1 2 3 4 5 6]\n",
      "[1 2 3 4 5 6]\n",
      "[1 2 3 4 5 6]\n"
     ]
    }
   ],
   "source": [
    "print( a )\n",
    "print( a[:])\n",
    "print( a[0:])"
   ]
  },
  {
   "cell_type": "markdown",
   "id": "c06720c9",
   "metadata": {},
   "source": [
    "ways to print the first 3 entries of a"
   ]
  },
  {
   "cell_type": "code",
   "execution_count": 40,
   "id": "a679b6c1",
   "metadata": {},
   "outputs": [
    {
     "name": "stdout",
     "output_type": "stream",
     "text": [
      "[1 2 3]\n",
      "[1 2 3]\n",
      "[1 2 3]\n"
     ]
    }
   ],
   "source": [
    "print( a[0:3] )      # unexpected, right? You would have said a[0:2], like, 0,1,2!\n",
    "print( a[range(3)] ) # unexpected, right?\n",
    "print( a[:3] )       # unexpected, right?"
   ]
  },
  {
   "cell_type": "markdown",
   "id": "d38a2c57",
   "metadata": {},
   "source": [
    "how to print from second to last entry"
   ]
  },
  {
   "cell_type": "code",
   "execution_count": 41,
   "id": "6394dd99",
   "metadata": {},
   "outputs": [
    {
     "name": "stdout",
     "output_type": "stream",
     "text": [
      "[2 3 4 5 6]\n"
     ]
    }
   ],
   "source": [
    "print( a[1:] )"
   ]
  },
  {
   "cell_type": "markdown",
   "id": "5313abb4",
   "metadata": {},
   "source": [
    "how to print last element of a"
   ]
  },
  {
   "cell_type": "code",
   "execution_count": 42,
   "id": "34c306cf",
   "metadata": {},
   "outputs": [
    {
     "name": "stdout",
     "output_type": "stream",
     "text": [
      "6\n"
     ]
    }
   ],
   "source": [
    "print( a[-1] )"
   ]
  },
  {
   "cell_type": "markdown",
   "id": "439e208f",
   "metadata": {},
   "source": [
    "how to print second to last element of a"
   ]
  },
  {
   "cell_type": "code",
   "execution_count": 43,
   "id": "93cf0e88",
   "metadata": {},
   "outputs": [
    {
     "name": "stdout",
     "output_type": "stream",
     "text": [
      "5\n"
     ]
    }
   ],
   "source": [
    "print( a[-2] )"
   ]
  },
  {
   "cell_type": "markdown",
   "id": "b071b3da",
   "metadata": {},
   "source": [
    "how to print from third (3, so index 2) to second to last element (5, that is -2)"
   ]
  },
  {
   "cell_type": "code",
   "execution_count": 44,
   "id": "2f00c1bf",
   "metadata": {},
   "outputs": [
    {
     "name": "stdout",
     "output_type": "stream",
     "text": [
      "[3 4 5]\n"
     ]
    }
   ],
   "source": [
    "print( a[2:-1] ) # when n:m remember that m is not included!"
   ]
  },
  {
   "cell_type": "markdown",
   "id": "727db963",
   "metadata": {},
   "source": [
    "Now, a words about performances. Matlab probably spoiled you with JIT (Just In Time compiling) and you did not even realise it. In fact Matlab at the first run of a code performs a light compiling and execution, driving down your loops costs and speeding up your codes (greatly).\n",
    "\n",
    "Python won't do this. Or at least not on its own, you need to import other packages, as Numba.\n",
    "\n",
    "This forces you to write code as a professional: avoid looping, avoid boolean flow controls, write \"vectorial\" code.\n",
    "\n",
    "Let's see an example. To time stuff we need to import time:"
   ]
  },
  {
   "cell_type": "code",
   "execution_count": 12,
   "id": "6c25732f",
   "metadata": {},
   "outputs": [],
   "source": [
    "import time"
   ]
  },
  {
   "cell_type": "code",
   "execution_count": 45,
   "id": "5c70cd0f",
   "metadata": {},
   "outputs": [
    {
     "name": "stdout",
     "output_type": "stream",
     "text": [
      "Elapsed time is 0.62 seconds.\n"
     ]
    }
   ],
   "source": [
    "t = time.time()\n",
    "n = 10000 # attention: if I write 1e4 it'll assume n is a float and break range, which only accepts int\n",
    "m = 1000  # attention: if I write 1e3 it'll assume m is a float and break range, which only accepts int\n",
    "for i in range(n):\n",
    "    for j in range(m):\n",
    "        c = 1.\n",
    "print('Elapsed time is %1.2f seconds.' % ( time.time() - t ) ) # 720ms"
   ]
  },
  {
   "cell_type": "markdown",
   "id": "81fd3b3b",
   "metadata": {},
   "source": [
    "On this same machine, Matlab executes this in 53ms on the first launch, then 8ms on avg. See also, https://www.youtube.com/watch?v=d7KHAVaX_Rs\n",
    "\n",
    "As for the rest, you do pretty much what you would do in Matlab, at the beginning constantly making sure that everything checks out.\n",
    "\n",
    "#### Example 01:"
   ]
  },
  {
   "cell_type": "code",
   "execution_count": 14,
   "id": "3c1d5a8d",
   "metadata": {},
   "outputs": [
    {
     "name": "stdout",
     "output_type": "stream",
     "text": [
      "[[0 1 2]\n",
      " [3 4 5]\n",
      " [6 7 8]]\n",
      " \n",
      "[[0 1 2]\n",
      " [3 4 5]\n",
      " [6 7 8]]\n",
      " \n",
      "[[ 0  1  4]\n",
      " [ 9 16 25]\n",
      " [36 49 64]]\n",
      " \n",
      "[[ 15  18  21]\n",
      " [ 42  54  66]\n",
      " [ 69  90 111]]\n"
     ]
    }
   ],
   "source": [
    "A = np.array( range(3*3) ).reshape(3,3)\n",
    "B = np.array( range(3*3) ).reshape(3,3)\n",
    "\n",
    "print( A )\n",
    "print(' ')\n",
    "\n",
    "print( B )\n",
    "print(' ')\n",
    "\n",
    "print(A*B) # unexpected, right?\n",
    "print(' ')\n",
    "\n",
    "print(A@B) # that's what you wanted"
   ]
  },
  {
   "cell_type": "markdown",
   "id": "a37f3483",
   "metadata": {},
   "source": [
    "#### Example 02:\n",
    "\n",
    "Sometimes it is not exactly immediate."
   ]
  },
  {
   "cell_type": "code",
   "execution_count": 15,
   "id": "323a1964",
   "metadata": {},
   "outputs": [
    {
     "name": "stdout",
     "output_type": "stream",
     "text": [
      "print(np.linalg.norm(A-B)):\n",
      "2.8284271247461903\n"
     ]
    }
   ],
   "source": [
    "A = np.array([[1,2],[2,1]])\n",
    "B = np.eye(2)\n",
    "\n",
    "print('print(np.linalg.norm(A-B)):')\n",
    "print(np.linalg.norm(A-B))"
   ]
  },
  {
   "cell_type": "markdown",
   "id": "b7ef1da5",
   "metadata": {},
   "source": [
    "#### Example 03:\n",
    "\n",
    "Sometimes, some of the Matlab functions you are used to can be found inside a package called Scipy"
   ]
  },
  {
   "cell_type": "code",
   "execution_count": 47,
   "id": "41549636",
   "metadata": {},
   "outputs": [
    {
     "data": {
      "text/plain": [
       "array([[ 1.00000000e+00,  6.31991419e-17, -7.09560472e-17],\n",
       "       [ 3.13213669e-17,  1.00000000e+00, -9.57538576e-17],\n",
       "       [-3.94960429e-16,  4.75729116e-17,  1.00000000e+00]])"
      ]
     },
     "execution_count": 47,
     "metadata": {},
     "output_type": "execute_result"
    }
   ],
   "source": [
    "from scipy import linalg\n",
    "A = np.random.randn(3,3)\n",
    "A @ linalg.inv(A)"
   ]
  },
  {
   "cell_type": "markdown",
   "id": "f24d3c02",
   "metadata": {},
   "source": [
    "Now pay attention:"
   ]
  },
  {
   "cell_type": "code",
   "execution_count": 17,
   "id": "be41d5d0",
   "metadata": {},
   "outputs": [
    {
     "name": "stdout",
     "output_type": "stream",
     "text": [
      "Elapsed time is 1.49 seconds.\n"
     ]
    }
   ],
   "source": [
    "A = np.random.randn( 2000,10000)\n",
    "B = np.random.randn(10000, 2000)\n",
    "\n",
    "t = time.time()\n",
    "C = A@B\n",
    "print('Elapsed time is %1.2f seconds.' % ( time.time() - t ) ) # 1.21s vs MATLAB's 1.22s"
   ]
  },
  {
   "cell_type": "markdown",
   "id": "a6affee8",
   "metadata": {},
   "source": [
    "Matlab instead took 1.22 seconds to perform the same task. Why that? Because both Matlab and Numpy run BLAS under the hood.\n",
    "\n",
    "What are BLAS?\n",
    "\n",
    "Short answer: your best friends. \n",
    "\n",
    "Long answer: The BLAS (Basic Linear Algebra Subprograms) are routines that provide standard building blocks for performing basic vector and matrix operations. The Level 1 BLAS perform scalar, vector and vector-vector operations, the Level 2 BLAS perform matrix-vector operations, and the Level 3 BLAS perform matrix-matrix operations. Because the BLAS are efficient, portable, and widely available, they are commonly used in the development of high quality linear algebra software, LAPACK for example.\n",
    "\n",
    "See also https://www.netlib.org/blas/\n",
    "\n",
    "Matlab, typically runs proprietary BLAS https://www.intel.com/content/www/us/en/docs/onemkl/developer-reference-c/2023-0/blas-and-sparse-blas-routines.html (proprietary = someone pays for it) while Octave, Numpy and open source software in general use open source BLAS instead.\n",
    "\n",
    "You most likely won't even notice the difference in performance. Also, Numpy provides a by far more clever way to exploit BLAS (and batched BLAS).\n",
    "For example, an array an array with shape (n,m,p) and a (n,p,l) shaped array can be multiplied together (try to do that in Matlab)"
   ]
  },
  {
   "cell_type": "code",
   "execution_count": 18,
   "id": "ea496e45",
   "metadata": {},
   "outputs": [
    {
     "name": "stdout",
     "output_type": "stream",
     "text": [
      "print( A.shape ):\n",
      "(10, 3, 2)\n",
      "\n",
      "print( B.shape ):\n",
      "(10, 2, 4)\n",
      "\n",
      "print( C.shape ):\n",
      "(10, 3, 4)\n"
     ]
    }
   ],
   "source": [
    "n = 10\n",
    "m = 3\n",
    "p = 2 \n",
    "l = 4\n",
    "A = np.array(range(n*m*p)).reshape(n,m,p)\n",
    "B = np.array(range(n*p*l)).reshape(n,p,l)\n",
    "C = A @ B\n",
    "\n",
    "print('print( A.shape ):')\n",
    "print( A.shape )\n",
    "\n",
    "print('\\nprint( B.shape ):')\n",
    "print( B.shape )\n",
    "\n",
    "print('\\nprint( C.shape ):')\n",
    "print( C.shape )"
   ]
  },
  {
   "cell_type": "markdown",
   "id": "59ceb391",
   "metadata": {},
   "source": [
    "Numpy in fact sees the array A as a stack of n matrices (m,p) multiplied each for the corresponding mate from the stack B of n matrices (p,l).\n",
    "\n",
    "This can be generalised:"
   ]
  },
  {
   "cell_type": "code",
   "execution_count": 19,
   "id": "b8248d15",
   "metadata": {},
   "outputs": [
    {
     "name": "stdout",
     "output_type": "stream",
     "text": [
      "print( F.shape ):\n",
      "(3, 4, 5, 3)\n"
     ]
    }
   ],
   "source": [
    "D = np.random.randn(3,4,5,6) # a (3,4) stack of (5,6) arrays\n",
    "E = np.random.randn(3,4,6,3) # a (3,4) stack of (6,3) arrays\n",
    "F = D @ E\n",
    "print('print( F.shape ):')\n",
    "print( F.shape ) "
   ]
  },
  {
   "cell_type": "markdown",
   "id": "4b41bfb2",
   "metadata": {},
   "source": [
    "Also, Numpy is so clever that supports strided transposition.\n",
    "\n",
    "What is that?? Well, transposing arrays is tiring and memory intensive, especially when dealing with stacks of stacks of arrays.\n",
    "\n",
    "Moreover, sometimes we do actually need to transpose an array for some stupid operation and then want it back as it was. In such cases it would be very wasteful to _actually_ transpose huge data structures."
   ]
  },
  {
   "cell_type": "code",
   "execution_count": 20,
   "id": "25910425",
   "metadata": {},
   "outputs": [
    {
     "name": "stdout",
     "output_type": "stream",
     "text": [
      "\n",
      "Strided transposition.      Elapsed time is 0.00 seconds.\n",
      "\n",
      "Strided matmul-tiplication. Elapsed time is 9.18 seconds.\n",
      "\n",
      "Actual transposition.       Elapsed time is 0.52 seconds.\n",
      "\n",
      "Actual matmul-tiplication.  Elapsed time is 0.08 seconds.\n",
      "\n",
      "Relative difference between D and E is 7.47e-16.\n"
     ]
    }
   ],
   "source": [
    "Na = 500\n",
    "Nb = 200\n",
    "Nc = 200\n",
    "Nd = 30\n",
    "C = np.random.randn(Na,Nb,Nc)\n",
    "A = np.random.randn(Nd,Na)\n",
    "\n",
    "t = time.time()\n",
    "D = C.transpose([2,0,1])\n",
    "print('\\nStrided transposition.      Elapsed time is %1.2f seconds.' % ( time.time() - t ) )\n",
    "t = time.time()\n",
    "D = A @ D\n",
    "print('\\nStrided matmul-tiplication. Elapsed time is %1.2f seconds.' % ( time.time() - t ) )\n",
    "\n",
    "t = time.time()\n",
    "E = np.ascontiguousarray(C.transpose([2,0,1]))\n",
    "print('\\nActual transposition.       Elapsed time is %1.2f seconds.' % ( time.time() - t ) )\n",
    "t = time.time()\n",
    "E = A @ E\n",
    "print('\\nActual matmul-tiplication.  Elapsed time is %1.2f seconds.' % ( time.time() - t ) )\n",
    "\n",
    "print('\\nRelative difference between D and E is %.2e.' % ( np.linalg.norm(D-E)/np.linalg.norm(D) ) )"
   ]
  },
  {
   "cell_type": "markdown",
   "id": "8bfe4184",
   "metadata": {},
   "source": [
    "Now a little thought before passing to the next notebook: some of the Numpy features that we have seen and that we will discover in this course might seem... superfluous?\n",
    "\n",
    "On the other hand, if you _know_ an operation _exist_ your brain will start _\"think that way\"_.\n",
    "So don't be shy in learning new tools :)\n"
   ]
  }
 ],
 "metadata": {
  "kernelspec": {
   "display_name": "Python 3",
   "language": "python",
   "name": "python3"
  },
  "language_info": {
   "codemirror_mode": {
    "name": "ipython",
    "version": 3
   },
   "file_extension": ".py",
   "mimetype": "text/x-python",
   "name": "python",
   "nbconvert_exporter": "python",
   "pygments_lexer": "ipython3",
   "version": "3.8.8"
  }
 },
 "nbformat": 4,
 "nbformat_minor": 5
}

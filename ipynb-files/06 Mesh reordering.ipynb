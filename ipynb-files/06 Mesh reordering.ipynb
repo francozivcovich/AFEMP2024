{
 "cells": [
  {
   "cell_type": "markdown",
   "id": "793b5d6d",
   "metadata": {},
   "source": [
    "# 06 Mesh reordering"
   ]
  },
  {
   "cell_type": "code",
   "execution_count": 1,
   "id": "d609ce17",
   "metadata": {},
   "outputs": [],
   "source": [
    "import numpy as np\n",
    "import scipy.sparse as sps\n",
    "import scipy as sp"
   ]
  },
  {
   "cell_type": "code",
   "execution_count": 2,
   "id": "281af40b",
   "metadata": {},
   "outputs": [],
   "source": [
    "# Create a dull square mesh\n",
    "a = 0\n",
    "b = 1\n",
    "\n",
    "Nx = 4\n",
    "Ny = 6\n",
    "\n",
    "x = np.linspace( a,b, Nx )\n",
    "y = np.linspace( a,b, Ny )\n",
    "\n",
    "# X, Y = np.meshgrid( x, y, indexing = 'ij' ) # matrix indexing\n",
    "X, Y = np.meshgrid( x, y, indexing = 'xy' ) # cartesian indexing\n",
    "\n",
    "Points = np.hstack( (X.reshape(-1,1),Y.reshape(-1,1)) )\n",
    "\n",
    "# CList is a bit more difficult but you don't need\n",
    "# to worry about this: we are just creating an example\n",
    "# quadrettification\n",
    "C = np.arange( Nx * ( Ny - 1 ) ).reshape(-1,Nx)[:,:Nx-1].reshape(-1,1) + np.array([0,1,Nx,Nx+1])\n",
    "# triangulation\n",
    "CList = np.vstack((C[:,:-1],C[:,1:]))"
   ]
  },
  {
   "cell_type": "code",
   "execution_count": 3,
   "id": "19355c28",
   "metadata": {},
   "outputs": [
    {
     "data": {
      "image/png": "[encoded data removed]",
      "text/plain": [
       "<Figure size 640x480 with 1 Axes>"
      ]
     },
     "metadata": {},
     "output_type": "display_data"
    }
   ],
   "source": [
    "# show mesh\n",
    "import matplotlib.pyplot as plt\n",
    "%matplotlib inline\n",
    "\n",
    "fig = plt.figure()\n",
    "ax  = fig.gca()\n",
    "ax.axis('equal')\n",
    "\n",
    "plt.triplot( Points[:,0], Points[:,1], triangles = CList )\n",
    "plt.show()"
   ]
  },
  {
   "cell_type": "code",
   "execution_count": 4,
   "id": "0c64f83e",
   "metadata": {},
   "outputs": [],
   "source": [
    "def simplexQuadrature( N, D ):\n",
    "# Created by Greg von Winckel, translated in Python by Franco Zivcovich.\n",
    "#\n",
    "# Original code: \n",
    "# https://www.mathworks.com/matlabcentral/fileexchange/9435-n-dimensional-simplex-quadrature\n",
    "#\n",
    "# Translation in Julia:\n",
    "# https://github.com/eschnett/SimplexQuad.jl\n",
    "#\n",
    "        def rquad( N, d ):\n",
    "            #\n",
    "            cof = 2 * np.array( range( N ) ) + d\n",
    "            if d:\n",
    "                A = ( d ** 2 ) / ( cof * ( cof + 2 ) )\n",
    "            else:\n",
    "                A = np.zeros( N )\n",
    "            B = ( cof[1:] ** 2 - d ** 2 ) / ( 2 * cof[1:] * np.sqrt( cof[1:]**2 - 1 ) )\n",
    "            M = np.diag( A ) + np.diag( B, -1 ) + np.diag( B, 1 )\n",
    "            #\n",
    "            x, V = np.linalg.eig( M )\n",
    "            i = np.argsort( x )\n",
    "            x = ( x[ i ] + 1 ) / 2\n",
    "            w = V[ 0,i ]**2 / ( d + 1 )\n",
    "            return x, w\n",
    "        #\n",
    "        X = np.ones( ( N ** D, D + 1 ) )\n",
    "        W = np.ones( ( N ** D, ) )\n",
    "        dim = np.ones( D, dtype = 'int32' )\n",
    "        dim[0] = -1\n",
    "        for d in range( 1, D + 1 ):\n",
    "            # cornerstone of this implementation\n",
    "            x, w = rquad( N, D - d )\n",
    "            # some auxiliary arrays\n",
    "            transposition = np.array( range( D ), dtype = 'int32' )\n",
    "            transposition[ d - 1 ] = 0\n",
    "            transposition[ 0 ] = d - 1\n",
    "            tilation = np.ones( D, dtype = 'int32' ) * N\n",
    "            tilation[ d - 1 ] = 1\n",
    "            # create the structures you need\n",
    "            x = np.transpose( x.reshape( dim ), transposition )\n",
    "            w = np.transpose( w.reshape( dim ), transposition )\n",
    "            # build X and W\n",
    "            X[ :,d ] = X[ :,d-1 ] * np.tile( x, tilation ).reshape( -1, order = 'F' )\n",
    "            W        = W          * np.tile( w, tilation ).reshape( -1, order = 'F' )\n",
    "\n",
    "        # manipulate output\n",
    "        X = - np.diff( X,1,1 )\n",
    "        permutation = np.roll( np.array( range( D ), dtype = 'int32' ),1 )\n",
    "        X = X[:,permutation]\n",
    "\n",
    "        return X, W"
   ]
  },
  {
   "cell_type": "code",
   "execution_count": 5,
   "id": "6b180a2f",
   "metadata": {},
   "outputs": [],
   "source": [
    "def mesh_renumbering( Points, CList ):\n",
    "    \n",
    "        Nv     = Points.shape[0]\n",
    "        Nc     =  CList.shape[0]\n",
    "        d_elem =  CList.shape[1] - 1\n",
    "\n",
    "        i = np.kron( np.ones( ( 1,CList.shape[1] ), dtype = 'int64' ), CList ).reshape(-1,order='F')\n",
    "        j = np.kron( CList, np.ones( ( 1,CList.shape[1] ), dtype = 'int64' ) ).reshape(-1,order='F')\n",
    "        id = np.argwhere( i != j ).reshape(-1)\n",
    "        C = sps.csc_matrix( ( np.ones( id.shape, dtype = bool ), ( i[id], j[id] ) ), dtype = bool ).tocoo()\n",
    "        i = C.row\n",
    "        j = C.col\n",
    "        vertexDegree = np.bincount( i, np.ones( i.shape, dtype = bool ), Nv )\n",
    "\n",
    "        where_j = np.hstack( ( 0, 1 + np.argwhere( np.diff( j ) ).reshape(-1), j.shape[0] ) ).astype('int64')\n",
    "        c = np.ones ( Nv, dtype = bool )\n",
    "\n",
    "        Q = np.zeros( Nv, dtype = 'int64' )\n",
    "        starting_vertex = np.argmin( vertexDegree )\n",
    "\n",
    "        count = 0\n",
    "        Q[ count ] = starting_vertex\n",
    "        c[ Q[ count ] ] = False\n",
    "\n",
    "        head = -1\n",
    "        while ( count < Nv - 1 ):\n",
    "            head = head + 1\n",
    "            adj = i[ where_j[ Q[head] ] : where_j[ Q[head] + 1 ] ];\n",
    "            id = np.argsort( vertexDegree[ adj ], kind='stable' )\n",
    "            for k in range( adj.shape[0] ):\n",
    "                if c[ adj[ id[ k ] ] ]:\n",
    "                    count = count + 1\n",
    "                    Q[ count ] = adj[ id[k] ]\n",
    "                    c[ Q[ count ] ] = False\n",
    "\n",
    "        reverseCMK = True\n",
    "        if reverseCMK:\n",
    "            Q = np.flip( Q )\n",
    "\n",
    "        Points = Points[ Q,: ]\n",
    "\n",
    "        iQ = np.empty_like( Q )\n",
    "        iQ[Q] = np.arange( Q.size )\n",
    "        CList = iQ[ CList.reshape(-1) ].reshape( CList.shape )\n",
    "        \n",
    "        return Points, CList"
   ]
  },
  {
   "cell_type": "code",
   "execution_count": 6,
   "id": "3d56ef4c",
   "metadata": {},
   "outputs": [],
   "source": [
    "def gradphi( d,x ):\n",
    "    # gradient of the basis function\n",
    "    return np.hstack( ( - np.ones( ( d,1 ) ), np.eye( d ) ) )\n",
    "\n",
    "def phi( d,x ):\n",
    "    # basis function\n",
    "    return np.eye( d + 1, 1 ).reshape(-1) + x @ gradphi( d,x )"
   ]
  },
  {
   "cell_type": "code",
   "execution_count": 7,
   "id": "4c9a70c6",
   "metadata": {},
   "outputs": [],
   "source": [
    "def mass_assembly( Points, CList, dtB ):\n",
    "    \n",
    "    Nv     = Points.shape[0]\n",
    "    Nc     =  CList.shape[0]\n",
    "    d_elem =  CList.shape[1] - 1\n",
    "\n",
    "    i = np.kron( np.ones( ( 1,CList.shape[1] ), dtype = 'int64' ), CList ).reshape(-1,order='F')\n",
    "    j = np.kron( CList, np.ones( ( 1,CList.shape[1] ), dtype = 'int64' ) ).reshape(-1,order='F')\n",
    "\n",
    "    X, W = simplexQuadrature( 2, d_elem )\n",
    "    mass = np.zeros( ( Nc, CList.shape[1], CList.shape[1] ) )\n",
    "    for q in range( W.shape[0] ):\n",
    "        N0 = phi( d_elem, X[q,:][None,:] )\n",
    "        mass = mass + ( N0.T @ N0 ) * ( dtB * W[q] )[:,None,None]\n",
    "    M = sps.csr_matrix( ( mass.reshape(-1,order='F'), ( i, j ) ), shape = ( Nv, Nv ), dtype = np.float64 )\n",
    "\n",
    "    return M"
   ]
  },
  {
   "cell_type": "code",
   "execution_count": 8,
   "id": "cb0985e1",
   "metadata": {},
   "outputs": [
    {
     "data": {
      "text/plain": [
       "4"
      ]
     },
     "execution_count": 8,
     "metadata": {},
     "output_type": "execute_result"
    },
    {
     "data": {
      "image/png": "[encoded data removed]",
      "text/plain": [
       "<Figure size 640x480 with 1 Axes>"
      ]
     },
     "metadata": {},
     "output_type": "display_data"
    }
   ],
   "source": [
    "B   = ( Points[CList[:,1:]] - Points[CList[:,0]][:,None,:] ).transpose( ( 0,2,1 ) )\n",
    "dtB = np.linalg.det( B )\n",
    "\n",
    "# Assemble mass\n",
    "M   = mass_assembly( Points, CList, np.abs( dtB ) )\n",
    "plt.spy( M, precision = 'present' )\n",
    "\n",
    "# compute bandwidth\n",
    "[ i,j,s ] = sps.find( M )\n",
    "np.max( np.abs( i - j ) )"
   ]
  },
  {
   "cell_type": "code",
   "execution_count": 9,
   "id": "d6915718",
   "metadata": {},
   "outputs": [
    {
     "data": {
      "text/plain": [
       "4"
      ]
     },
     "execution_count": 9,
     "metadata": {},
     "output_type": "execute_result"
    },
    {
     "data": {
      "image/png": "[encoded data removed]",
      "text/plain": [
       "<Figure size 640x480 with 1 Axes>"
      ]
     },
     "metadata": {},
     "output_type": "display_data"
    }
   ],
   "source": [
    "# Assemble mass Cholesky\n",
    "L = sp.linalg.cholesky( M.toarray(), lower=True )\n",
    "plt.spy( sps.csr_matrix( L ), precision = 'present' )\n",
    "\n",
    "# compute bandwidth\n",
    "[ i,j,s ] = sps.find( L )\n",
    "np.max( np.abs( i - j ) )"
   ]
  },
  {
   "cell_type": "code",
   "execution_count": 10,
   "id": "9ceed4a6",
   "metadata": {},
   "outputs": [
    {
     "data": {
      "text/plain": [
       "4"
      ]
     },
     "execution_count": 10,
     "metadata": {},
     "output_type": "execute_result"
    },
    {
     "data": {
      "image/png": "[encoded data removed]",
      "text/plain": [
       "<Figure size 640x480 with 1 Axes>"
      ]
     },
     "metadata": {},
     "output_type": "display_data"
    }
   ],
   "source": [
    "Points, CList = mesh_renumbering( Points, CList )\n",
    "B   = ( Points[CList[:,1:]] - Points[CList[:,0]][:,None,:] ).transpose( ( 0,2,1 ) )\n",
    "dtB = np.linalg.det( B )\n",
    "\n",
    "# Assemble mass\n",
    "M   = mass_assembly( Points, CList, np.abs( dtB ) )\n",
    "plt.spy( M, precision = 'present' )\n",
    "\n",
    "# compute bandwidth\n",
    "[ i,j,s ] = sps.find( M )\n",
    "np.max( np.abs( i - j ) )"
   ]
  },
  {
   "cell_type": "code",
   "execution_count": 11,
   "id": "356c9799",
   "metadata": {},
   "outputs": [
    {
     "data": {
      "text/plain": [
       "4"
      ]
     },
     "execution_count": 11,
     "metadata": {},
     "output_type": "execute_result"
    },
    {
     "data": {
      "image/png": "[encoded data removed]",
      "text/plain": [
       "<Figure size 640x480 with 1 Axes>"
      ]
     },
     "metadata": {},
     "output_type": "display_data"
    }
   ],
   "source": [
    "# Assemble mass Cholesky\n",
    "L = sp.linalg.cholesky( M.toarray(), lower=True )\n",
    "plt.spy( sps.csr_matrix( L ), precision = 'present' )\n",
    "\n",
    "# compute bandwidth\n",
    "[ i,j,s ] = sps.find( L )\n",
    "np.max( np.abs( i - j ) )"
   ]
  },
  {
   "cell_type": "code",
   "execution_count": 12,
   "id": "dd4efb01",
   "metadata": {},
   "outputs": [
    {
     "data": {
      "text/plain": [
       "23"
      ]
     },
     "execution_count": 12,
     "metadata": {},
     "output_type": "execute_result"
    },
    {
     "data": {
      "image/png": "[encoded data removed]",
      "text/plain": [
       "<Figure size 640x480 with 1 Axes>"
      ]
     },
     "metadata": {},
     "output_type": "display_data"
    }
   ],
   "source": [
    "# shuffle Points with random permutation\n",
    "Nv = Points.shape[0]\n",
    "Q = np.random.permutation(np.unique(CList))\n",
    "Points = Points[ Q,: ]\n",
    "iQ = np.empty_like( Q )\n",
    "iQ[Q] = np.arange( Q.size )\n",
    "CList = iQ[ CList.reshape(-1) ].reshape( CList.shape )\n",
    "\n",
    "B   = ( Points[CList[:,1:]] - Points[CList[:,0]][:,None,:] ).transpose( ( 0,2,1 ) )\n",
    "dtB = np.linalg.det( B )\n",
    "\n",
    "# Assemble mass\n",
    "M   = mass_assembly( Points, CList, np.abs( dtB ) )\n",
    "plt.spy( M, precision = 'present' )\n",
    "\n",
    "# compute bandwidth\n",
    "[ i,j,s ] = sps.find( M )\n",
    "np.max( np.abs( i - j ) )"
   ]
  },
  {
   "cell_type": "code",
   "execution_count": 13,
   "id": "191762c5",
   "metadata": {},
   "outputs": [
    {
     "data": {
      "text/plain": [
       "23"
      ]
     },
     "execution_count": 13,
     "metadata": {},
     "output_type": "execute_result"
    },
    {
     "data": {
      "image/png": "[encoded data removed]",
      "text/plain": [
       "<Figure size 640x480 with 1 Axes>"
      ]
     },
     "metadata": {},
     "output_type": "display_data"
    }
   ],
   "source": [
    "# Assemble mass Cholesky\n",
    "L = sp.linalg.cholesky( M.toarray(), lower=True )\n",
    "plt.spy( sps.csr_matrix( L ), precision = 'present' )\n",
    "\n",
    "# compute bandwidth\n",
    "[ i,j,s ] = sps.find( L )\n",
    "np.max( np.abs( i - j ) )"
   ]
  }
 ],
 "metadata": {
  "kernelspec": {
   "display_name": "Python 3",
   "language": "python",
   "name": "python3"
  },
  "language_info": {
   "codemirror_mode": {
    "name": "ipython",
    "version": 3
   },
   "file_extension": ".py",
   "mimetype": "text/x-python",
   "name": "python",
   "nbconvert_exporter": "python",
   "pygments_lexer": "ipython3",
   "version": "3.8.8"
  }
 },
 "nbformat": 4,
 "nbformat_minor": 5
}
